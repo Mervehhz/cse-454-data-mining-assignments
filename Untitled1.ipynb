{
 "cells": [
  {
   "cell_type": "code",
   "execution_count": 1,
   "id": "79e50175",
   "metadata": {},
   "outputs": [],
   "source": [
    "import pandas as pd\n",
    "import numpy as np\n",
    "import seaborn as sns\n",
    "sns.set()\n",
    "import matplotlib.pyplot as plt\n",
    "%matplotlib inline"
   ]
  },
  {
   "cell_type": "code",
   "execution_count": 2,
   "id": "f539751c",
   "metadata": {},
   "outputs": [],
   "source": [
    "data = pd.read_csv(\"train_distance_matrix.csv\")"
   ]
  },
  {
   "cell_type": "code",
   "execution_count": 3,
   "id": "5e499787",
   "metadata": {},
   "outputs": [
    {
     "data": {
      "text/plain": [
       "Index(['id', 'vendor_id', 'pickup_datetime', 'dropoff_datetime',\n",
       "       'passenger_count', 'pickup_longitude', 'pickup_latitude',\n",
       "       'dropoff_longitude', 'dropoff_latitude', 'store_and_fwd_flag',\n",
       "       'gc_distance', 'trip_duration', 'google_distance', 'google_duration'],\n",
       "      dtype='object')"
      ]
     },
     "execution_count": 3,
     "metadata": {},
     "output_type": "execute_result"
    }
   ],
   "source": [
    "data.columns"
   ]
  },
  {
   "cell_type": "code",
   "execution_count": 4,
   "id": "069ebb02",
   "metadata": {},
   "outputs": [
    {
     "data": {
      "text/plain": [
       "id                     object\n",
       "vendor_id               int64\n",
       "pickup_datetime        object\n",
       "dropoff_datetime       object\n",
       "passenger_count         int64\n",
       "pickup_longitude      float64\n",
       "pickup_latitude       float64\n",
       "dropoff_longitude     float64\n",
       "dropoff_latitude      float64\n",
       "store_and_fwd_flag     object\n",
       "gc_distance           float64\n",
       "trip_duration           int64\n",
       "google_distance       float64\n",
       "google_duration       float64\n",
       "dtype: object"
      ]
     },
     "execution_count": 4,
     "metadata": {},
     "output_type": "execute_result"
    }
   ],
   "source": [
    "data.dtypes"
   ]
  },
  {
   "cell_type": "code",
   "execution_count": 5,
   "id": "73d46a15",
   "metadata": {},
   "outputs": [],
   "source": [
    "import datetime as dt"
   ]
  },
  {
   "cell_type": "code",
   "execution_count": 6,
   "id": "e5fef1ae",
   "metadata": {},
   "outputs": [
    {
     "data": {
      "text/html": [
       "<div>\n",
       "<style scoped>\n",
       "    .dataframe tbody tr th:only-of-type {\n",
       "        vertical-align: middle;\n",
       "    }\n",
       "\n",
       "    .dataframe tbody tr th {\n",
       "        vertical-align: top;\n",
       "    }\n",
       "\n",
       "    .dataframe thead th {\n",
       "        text-align: right;\n",
       "    }\n",
       "</style>\n",
       "<table border=\"1\" class=\"dataframe\">\n",
       "  <thead>\n",
       "    <tr style=\"text-align: right;\">\n",
       "      <th></th>\n",
       "      <th>id</th>\n",
       "      <th>vendor_id</th>\n",
       "      <th>pickup_datetime</th>\n",
       "      <th>dropoff_datetime</th>\n",
       "      <th>passenger_count</th>\n",
       "      <th>pickup_longitude</th>\n",
       "      <th>pickup_latitude</th>\n",
       "      <th>dropoff_longitude</th>\n",
       "      <th>dropoff_latitude</th>\n",
       "      <th>store_and_fwd_flag</th>\n",
       "      <th>gc_distance</th>\n",
       "      <th>trip_duration</th>\n",
       "      <th>google_distance</th>\n",
       "      <th>google_duration</th>\n",
       "    </tr>\n",
       "  </thead>\n",
       "  <tbody>\n",
       "    <tr>\n",
       "      <th>22495</th>\n",
       "      <td>id2202631</td>\n",
       "      <td>2</td>\n",
       "      <td>1/5/2016 20:36</td>\n",
       "      <td>1/5/2016 20:43</td>\n",
       "      <td>2</td>\n",
       "      <td>-73.997345</td>\n",
       "      <td>40.756744</td>\n",
       "      <td>-73.981850</td>\n",
       "      <td>40.777618</td>\n",
       "      <td>N</td>\n",
       "      <td>1.655032</td>\n",
       "      <td>403</td>\n",
       "      <td>2721.0</td>\n",
       "      <td>582.0</td>\n",
       "    </tr>\n",
       "    <tr>\n",
       "      <th>23536</th>\n",
       "      <td>id0208134</td>\n",
       "      <td>1</td>\n",
       "      <td>1/6/2016 2:34</td>\n",
       "      <td>1/6/2016 2:43</td>\n",
       "      <td>1</td>\n",
       "      <td>-73.963661</td>\n",
       "      <td>40.808395</td>\n",
       "      <td>-73.948631</td>\n",
       "      <td>40.804157</td>\n",
       "      <td>N</td>\n",
       "      <td>0.839048</td>\n",
       "      <td>566</td>\n",
       "      <td>2719.0</td>\n",
       "      <td>757.0</td>\n",
       "    </tr>\n",
       "    <tr>\n",
       "      <th>34578</th>\n",
       "      <td>id3953802</td>\n",
       "      <td>2</td>\n",
       "      <td>1/8/2016 3:39</td>\n",
       "      <td>1/8/2016 3:52</td>\n",
       "      <td>1</td>\n",
       "      <td>-73.967613</td>\n",
       "      <td>40.759899</td>\n",
       "      <td>-74.003731</td>\n",
       "      <td>40.751629</td>\n",
       "      <td>N</td>\n",
       "      <td>1.975361</td>\n",
       "      <td>817</td>\n",
       "      <td>4755.0</td>\n",
       "      <td>1225.0</td>\n",
       "    </tr>\n",
       "    <tr>\n",
       "      <th>3589</th>\n",
       "      <td>id3144897</td>\n",
       "      <td>2</td>\n",
       "      <td>1/1/2016 16:35</td>\n",
       "      <td>1/1/2016 16:41</td>\n",
       "      <td>2</td>\n",
       "      <td>-73.989532</td>\n",
       "      <td>40.762630</td>\n",
       "      <td>-74.005989</td>\n",
       "      <td>40.743679</td>\n",
       "      <td>N</td>\n",
       "      <td>1.567758</td>\n",
       "      <td>378</td>\n",
       "      <td>2702.0</td>\n",
       "      <td>630.0</td>\n",
       "    </tr>\n",
       "    <tr>\n",
       "      <th>20413</th>\n",
       "      <td>id3964820</td>\n",
       "      <td>2</td>\n",
       "      <td>1/5/2016 9:30</td>\n",
       "      <td>1/5/2016 9:51</td>\n",
       "      <td>6</td>\n",
       "      <td>-74.006989</td>\n",
       "      <td>40.703991</td>\n",
       "      <td>-73.987251</td>\n",
       "      <td>40.694389</td>\n",
       "      <td>N</td>\n",
       "      <td>1.228774</td>\n",
       "      <td>1313</td>\n",
       "      <td>4983.0</td>\n",
       "      <td>614.0</td>\n",
       "    </tr>\n",
       "  </tbody>\n",
       "</table>\n",
       "</div>"
      ],
      "text/plain": [
       "              id  vendor_id pickup_datetime dropoff_datetime  passenger_count  \\\n",
       "22495  id2202631          2  1/5/2016 20:36   1/5/2016 20:43                2   \n",
       "23536  id0208134          1   1/6/2016 2:34    1/6/2016 2:43                1   \n",
       "34578  id3953802          2   1/8/2016 3:39    1/8/2016 3:52                1   \n",
       "3589   id3144897          2  1/1/2016 16:35   1/1/2016 16:41                2   \n",
       "20413  id3964820          2   1/5/2016 9:30    1/5/2016 9:51                6   \n",
       "\n",
       "       pickup_longitude  pickup_latitude  dropoff_longitude  dropoff_latitude  \\\n",
       "22495        -73.997345        40.756744         -73.981850         40.777618   \n",
       "23536        -73.963661        40.808395         -73.948631         40.804157   \n",
       "34578        -73.967613        40.759899         -74.003731         40.751629   \n",
       "3589         -73.989532        40.762630         -74.005989         40.743679   \n",
       "20413        -74.006989        40.703991         -73.987251         40.694389   \n",
       "\n",
       "      store_and_fwd_flag  gc_distance  trip_duration  google_distance  \\\n",
       "22495                  N     1.655032            403           2721.0   \n",
       "23536                  N     0.839048            566           2719.0   \n",
       "34578                  N     1.975361            817           4755.0   \n",
       "3589                   N     1.567758            378           2702.0   \n",
       "20413                  N     1.228774           1313           4983.0   \n",
       "\n",
       "       google_duration  \n",
       "22495            582.0  \n",
       "23536            757.0  \n",
       "34578           1225.0  \n",
       "3589             630.0  \n",
       "20413            614.0  "
      ]
     },
     "execution_count": 6,
     "metadata": {},
     "output_type": "execute_result"
    }
   ],
   "source": [
    "data.sample(5)"
   ]
  },
  {
   "cell_type": "code",
   "execution_count": 7,
   "id": "a83eba27",
   "metadata": {},
   "outputs": [
    {
     "data": {
      "text/plain": [
       "id                      0\n",
       "vendor_id               0\n",
       "pickup_datetime         0\n",
       "dropoff_datetime        0\n",
       "passenger_count         0\n",
       "pickup_longitude        0\n",
       "pickup_latitude         0\n",
       "dropoff_longitude       0\n",
       "dropoff_latitude        0\n",
       "store_and_fwd_flag      0\n",
       "gc_distance             0\n",
       "trip_duration           0\n",
       "google_distance       559\n",
       "google_duration       559\n",
       "dtype: int64"
      ]
     },
     "execution_count": 7,
     "metadata": {},
     "output_type": "execute_result"
    }
   ],
   "source": [
    "data.isnull().sum()"
   ]
  },
  {
   "cell_type": "code",
   "execution_count": 8,
   "id": "06c8ac6a",
   "metadata": {},
   "outputs": [
    {
     "data": {
      "text/plain": [
       "id                    39396\n",
       "vendor_id                 2\n",
       "pickup_datetime        9934\n",
       "dropoff_datetime       9949\n",
       "passenger_count           8\n",
       "pickup_longitude      10386\n",
       "pickup_latitude       18345\n",
       "dropoff_longitude     11765\n",
       "dropoff_latitude      20248\n",
       "store_and_fwd_flag        2\n",
       "gc_distance           39228\n",
       "trip_duration          2941\n",
       "google_distance       11985\n",
       "google_duration        2703\n",
       "dtype: int64"
      ]
     },
     "execution_count": 8,
     "metadata": {},
     "output_type": "execute_result"
    }
   ],
   "source": [
    "data.nunique()"
   ]
  },
  {
   "cell_type": "code",
   "execution_count": 9,
   "id": "7c07e23c",
   "metadata": {},
   "outputs": [
    {
     "data": {
      "text/html": [
       "<div>\n",
       "<style scoped>\n",
       "    .dataframe tbody tr th:only-of-type {\n",
       "        vertical-align: middle;\n",
       "    }\n",
       "\n",
       "    .dataframe tbody tr th {\n",
       "        vertical-align: top;\n",
       "    }\n",
       "\n",
       "    .dataframe thead th {\n",
       "        text-align: right;\n",
       "    }\n",
       "</style>\n",
       "<table border=\"1\" class=\"dataframe\">\n",
       "  <thead>\n",
       "    <tr style=\"text-align: right;\">\n",
       "      <th></th>\n",
       "      <th>vendor_id</th>\n",
       "      <th>passenger_count</th>\n",
       "      <th>pickup_longitude</th>\n",
       "      <th>pickup_latitude</th>\n",
       "      <th>dropoff_longitude</th>\n",
       "      <th>dropoff_latitude</th>\n",
       "      <th>gc_distance</th>\n",
       "      <th>trip_duration</th>\n",
       "      <th>google_distance</th>\n",
       "      <th>google_duration</th>\n",
       "    </tr>\n",
       "  </thead>\n",
       "  <tbody>\n",
       "    <tr>\n",
       "      <th>count</th>\n",
       "      <td>39396.000000</td>\n",
       "      <td>39396.000000</td>\n",
       "      <td>39396.000000</td>\n",
       "      <td>39396.000000</td>\n",
       "      <td>39396.000000</td>\n",
       "      <td>39396.000000</td>\n",
       "      <td>39396.000000</td>\n",
       "      <td>3.939600e+04</td>\n",
       "      <td>38837.000000</td>\n",
       "      <td>38837.000000</td>\n",
       "    </tr>\n",
       "    <tr>\n",
       "      <th>mean</th>\n",
       "      <td>1.540512</td>\n",
       "      <td>1.691669</td>\n",
       "      <td>-73.971934</td>\n",
       "      <td>40.750858</td>\n",
       "      <td>-73.973048</td>\n",
       "      <td>40.752142</td>\n",
       "      <td>2.166888</td>\n",
       "      <td>9.745813e+02</td>\n",
       "      <td>4937.839097</td>\n",
       "      <td>821.085614</td>\n",
       "    </tr>\n",
       "    <tr>\n",
       "      <th>std</th>\n",
       "      <td>0.498362</td>\n",
       "      <td>1.332440</td>\n",
       "      <td>0.041576</td>\n",
       "      <td>0.040643</td>\n",
       "      <td>0.045388</td>\n",
       "      <td>0.032743</td>\n",
       "      <td>3.769393</td>\n",
       "      <td>1.524926e+04</td>\n",
       "      <td>6184.438363</td>\n",
       "      <td>509.541421</td>\n",
       "    </tr>\n",
       "    <tr>\n",
       "      <th>min</th>\n",
       "      <td>1.000000</td>\n",
       "      <td>0.000000</td>\n",
       "      <td>-74.345078</td>\n",
       "      <td>35.081532</td>\n",
       "      <td>-79.352837</td>\n",
       "      <td>40.436329</td>\n",
       "      <td>0.000000</td>\n",
       "      <td>2.000000e+00</td>\n",
       "      <td>0.000000</td>\n",
       "      <td>0.000000</td>\n",
       "    </tr>\n",
       "    <tr>\n",
       "      <th>25%</th>\n",
       "      <td>1.000000</td>\n",
       "      <td>1.000000</td>\n",
       "      <td>-73.991318</td>\n",
       "      <td>40.737885</td>\n",
       "      <td>-73.990822</td>\n",
       "      <td>40.736804</td>\n",
       "      <td>0.753846</td>\n",
       "      <td>3.590000e+02</td>\n",
       "      <td>1639.000000</td>\n",
       "      <td>453.000000</td>\n",
       "    </tr>\n",
       "    <tr>\n",
       "      <th>50%</th>\n",
       "      <td>2.000000</td>\n",
       "      <td>1.000000</td>\n",
       "      <td>-73.981133</td>\n",
       "      <td>40.754929</td>\n",
       "      <td>-73.979263</td>\n",
       "      <td>40.755201</td>\n",
       "      <td>1.281959</td>\n",
       "      <td>5.890000e+02</td>\n",
       "      <td>2733.000000</td>\n",
       "      <td>702.000000</td>\n",
       "    </tr>\n",
       "    <tr>\n",
       "      <th>75%</th>\n",
       "      <td>2.000000</td>\n",
       "      <td>2.000000</td>\n",
       "      <td>-73.966316</td>\n",
       "      <td>40.768787</td>\n",
       "      <td>-73.962667</td>\n",
       "      <td>40.770051</td>\n",
       "      <td>2.377999</td>\n",
       "      <td>9.490000e+02</td>\n",
       "      <td>5174.000000</td>\n",
       "      <td>1073.000000</td>\n",
       "    </tr>\n",
       "    <tr>\n",
       "      <th>max</th>\n",
       "      <td>2.000000</td>\n",
       "      <td>8.000000</td>\n",
       "      <td>-71.799896</td>\n",
       "      <td>41.023983</td>\n",
       "      <td>-73.324074</td>\n",
       "      <td>41.334740</td>\n",
       "      <td>553.930793</td>\n",
       "      <td>2.227612e+06</td>\n",
       "      <td>91060.000000</td>\n",
       "      <td>4164.000000</td>\n",
       "    </tr>\n",
       "  </tbody>\n",
       "</table>\n",
       "</div>"
      ],
      "text/plain": [
       "          vendor_id  passenger_count  pickup_longitude  pickup_latitude  \\\n",
       "count  39396.000000     39396.000000      39396.000000     39396.000000   \n",
       "mean       1.540512         1.691669        -73.971934        40.750858   \n",
       "std        0.498362         1.332440          0.041576         0.040643   \n",
       "min        1.000000         0.000000        -74.345078        35.081532   \n",
       "25%        1.000000         1.000000        -73.991318        40.737885   \n",
       "50%        2.000000         1.000000        -73.981133        40.754929   \n",
       "75%        2.000000         2.000000        -73.966316        40.768787   \n",
       "max        2.000000         8.000000        -71.799896        41.023983   \n",
       "\n",
       "       dropoff_longitude  dropoff_latitude   gc_distance  trip_duration  \\\n",
       "count       39396.000000      39396.000000  39396.000000   3.939600e+04   \n",
       "mean          -73.973048         40.752142      2.166888   9.745813e+02   \n",
       "std             0.045388          0.032743      3.769393   1.524926e+04   \n",
       "min           -79.352837         40.436329      0.000000   2.000000e+00   \n",
       "25%           -73.990822         40.736804      0.753846   3.590000e+02   \n",
       "50%           -73.979263         40.755201      1.281959   5.890000e+02   \n",
       "75%           -73.962667         40.770051      2.377999   9.490000e+02   \n",
       "max           -73.324074         41.334740    553.930793   2.227612e+06   \n",
       "\n",
       "       google_distance  google_duration  \n",
       "count     38837.000000     38837.000000  \n",
       "mean       4937.839097       821.085614  \n",
       "std        6184.438363       509.541421  \n",
       "min           0.000000         0.000000  \n",
       "25%        1639.000000       453.000000  \n",
       "50%        2733.000000       702.000000  \n",
       "75%        5174.000000      1073.000000  \n",
       "max       91060.000000      4164.000000  "
      ]
     },
     "execution_count": 9,
     "metadata": {},
     "output_type": "execute_result"
    }
   ],
   "source": [
    "data.describe()"
   ]
  },
  {
   "cell_type": "code",
   "execution_count": 10,
   "id": "42aa866f",
   "metadata": {},
   "outputs": [],
   "source": [
    "data['pickup_datetime'] = pd.to_datetime(data['pickup_datetime'])\n",
    "data['dropoff_datetime'] = pd.to_datetime(data['dropoff_datetime'])"
   ]
  },
  {
   "cell_type": "code",
   "execution_count": 11,
   "id": "159c4b49",
   "metadata": {},
   "outputs": [
    {
     "data": {
      "text/html": [
       "<div>\n",
       "<style scoped>\n",
       "    .dataframe tbody tr th:only-of-type {\n",
       "        vertical-align: middle;\n",
       "    }\n",
       "\n",
       "    .dataframe tbody tr th {\n",
       "        vertical-align: top;\n",
       "    }\n",
       "\n",
       "    .dataframe thead th {\n",
       "        text-align: right;\n",
       "    }\n",
       "</style>\n",
       "<table border=\"1\" class=\"dataframe\">\n",
       "  <thead>\n",
       "    <tr style=\"text-align: right;\">\n",
       "      <th></th>\n",
       "      <th>id</th>\n",
       "      <th>vendor_id</th>\n",
       "      <th>pickup_datetime</th>\n",
       "      <th>dropoff_datetime</th>\n",
       "      <th>passenger_count</th>\n",
       "      <th>pickup_longitude</th>\n",
       "      <th>pickup_latitude</th>\n",
       "      <th>dropoff_longitude</th>\n",
       "      <th>dropoff_latitude</th>\n",
       "      <th>store_and_fwd_flag</th>\n",
       "      <th>gc_distance</th>\n",
       "      <th>trip_duration</th>\n",
       "      <th>google_distance</th>\n",
       "      <th>google_duration</th>\n",
       "    </tr>\n",
       "  </thead>\n",
       "  <tbody>\n",
       "    <tr>\n",
       "      <th>34789</th>\n",
       "      <td>id0830406</td>\n",
       "      <td>2</td>\n",
       "      <td>2016-01-08 06:42:00</td>\n",
       "      <td>2016-01-08 06:49:00</td>\n",
       "      <td>2</td>\n",
       "      <td>-73.964043</td>\n",
       "      <td>40.765072</td>\n",
       "      <td>-73.952728</td>\n",
       "      <td>40.789188</td>\n",
       "      <td>N</td>\n",
       "      <td>1.768822</td>\n",
       "      <td>412</td>\n",
       "      <td>3274.0</td>\n",
       "      <td>623.0</td>\n",
       "    </tr>\n",
       "    <tr>\n",
       "      <th>16136</th>\n",
       "      <td>id0470927</td>\n",
       "      <td>2</td>\n",
       "      <td>2016-01-04 12:01:00</td>\n",
       "      <td>2016-01-04 12:03:00</td>\n",
       "      <td>2</td>\n",
       "      <td>-73.981400</td>\n",
       "      <td>40.752857</td>\n",
       "      <td>-73.987167</td>\n",
       "      <td>40.744816</td>\n",
       "      <td>N</td>\n",
       "      <td>0.632512</td>\n",
       "      <td>147</td>\n",
       "      <td>1015.0</td>\n",
       "      <td>261.0</td>\n",
       "    </tr>\n",
       "    <tr>\n",
       "      <th>3081</th>\n",
       "      <td>id1322692</td>\n",
       "      <td>2</td>\n",
       "      <td>2016-01-01 14:21:00</td>\n",
       "      <td>2016-01-01 14:23:00</td>\n",
       "      <td>1</td>\n",
       "      <td>-73.960205</td>\n",
       "      <td>40.773293</td>\n",
       "      <td>-73.966293</td>\n",
       "      <td>40.772278</td>\n",
       "      <td>N</td>\n",
       "      <td>0.326282</td>\n",
       "      <td>154</td>\n",
       "      <td>762.0</td>\n",
       "      <td>189.0</td>\n",
       "    </tr>\n",
       "    <tr>\n",
       "      <th>17410</th>\n",
       "      <td>id3421159</td>\n",
       "      <td>2</td>\n",
       "      <td>2016-01-04 17:18:00</td>\n",
       "      <td>2016-01-04 17:26:00</td>\n",
       "      <td>2</td>\n",
       "      <td>-73.996742</td>\n",
       "      <td>40.732018</td>\n",
       "      <td>-73.993225</td>\n",
       "      <td>40.744011</td>\n",
       "      <td>N</td>\n",
       "      <td>0.849114</td>\n",
       "      <td>508</td>\n",
       "      <td>2349.0</td>\n",
       "      <td>652.0</td>\n",
       "    </tr>\n",
       "    <tr>\n",
       "      <th>6193</th>\n",
       "      <td>id3810678</td>\n",
       "      <td>2</td>\n",
       "      <td>2016-01-02 10:32:00</td>\n",
       "      <td>2016-01-02 10:44:00</td>\n",
       "      <td>5</td>\n",
       "      <td>-73.966194</td>\n",
       "      <td>40.789360</td>\n",
       "      <td>-73.994942</td>\n",
       "      <td>40.750126</td>\n",
       "      <td>N</td>\n",
       "      <td>3.101097</td>\n",
       "      <td>733</td>\n",
       "      <td>5655.0</td>\n",
       "      <td>1307.0</td>\n",
       "    </tr>\n",
       "  </tbody>\n",
       "</table>\n",
       "</div>"
      ],
      "text/plain": [
       "              id  vendor_id     pickup_datetime    dropoff_datetime  \\\n",
       "34789  id0830406          2 2016-01-08 06:42:00 2016-01-08 06:49:00   \n",
       "16136  id0470927          2 2016-01-04 12:01:00 2016-01-04 12:03:00   \n",
       "3081   id1322692          2 2016-01-01 14:21:00 2016-01-01 14:23:00   \n",
       "17410  id3421159          2 2016-01-04 17:18:00 2016-01-04 17:26:00   \n",
       "6193   id3810678          2 2016-01-02 10:32:00 2016-01-02 10:44:00   \n",
       "\n",
       "       passenger_count  pickup_longitude  pickup_latitude  dropoff_longitude  \\\n",
       "34789                2        -73.964043        40.765072         -73.952728   \n",
       "16136                2        -73.981400        40.752857         -73.987167   \n",
       "3081                 1        -73.960205        40.773293         -73.966293   \n",
       "17410                2        -73.996742        40.732018         -73.993225   \n",
       "6193                 5        -73.966194        40.789360         -73.994942   \n",
       "\n",
       "       dropoff_latitude store_and_fwd_flag  gc_distance  trip_duration  \\\n",
       "34789         40.789188                  N     1.768822            412   \n",
       "16136         40.744816                  N     0.632512            147   \n",
       "3081          40.772278                  N     0.326282            154   \n",
       "17410         40.744011                  N     0.849114            508   \n",
       "6193          40.750126                  N     3.101097            733   \n",
       "\n",
       "       google_distance  google_duration  \n",
       "34789           3274.0            623.0  \n",
       "16136           1015.0            261.0  \n",
       "3081             762.0            189.0  \n",
       "17410           2349.0            652.0  \n",
       "6193            5655.0           1307.0  "
      ]
     },
     "execution_count": 11,
     "metadata": {},
     "output_type": "execute_result"
    }
   ],
   "source": [
    "data.sample(5)"
   ]
  },
  {
   "cell_type": "code",
   "execution_count": 12,
   "id": "4413fd40",
   "metadata": {},
   "outputs": [
    {
     "data": {
      "text/plain": [
       "(39396, 14)"
      ]
     },
     "execution_count": 12,
     "metadata": {},
     "output_type": "execute_result"
    }
   ],
   "source": [
    "data.shape"
   ]
  },
  {
   "cell_type": "code",
   "execution_count": 13,
   "id": "a2fdac01",
   "metadata": {},
   "outputs": [
    {
     "data": {
      "text/plain": [
       "dtype('<M8[ns]')"
      ]
     },
     "execution_count": 13,
     "metadata": {},
     "output_type": "execute_result"
    }
   ],
   "source": [
    "data['pickup_datetime'].dtypes"
   ]
  },
  {
   "cell_type": "code",
   "execution_count": 14,
   "id": "aff91402",
   "metadata": {},
   "outputs": [],
   "source": [
    "data['pickup_day'] = data['pickup_datetime'].dt.day_name()\n",
    "data['dropoff_day'] = data['dropoff_datetime'].dt.day_name()"
   ]
  },
  {
   "cell_type": "code",
   "execution_count": 15,
   "id": "547df1a1",
   "metadata": {},
   "outputs": [
    {
     "data": {
      "text/plain": [
       "(39396, 16)"
      ]
     },
     "execution_count": 15,
     "metadata": {},
     "output_type": "execute_result"
    }
   ],
   "source": [
    "data.shape"
   ]
  },
  {
   "cell_type": "code",
   "execution_count": 16,
   "id": "28bc0b1a",
   "metadata": {},
   "outputs": [],
   "source": [
    "data['pickup_day_no'] = data['pickup_datetime'].dt.weekday\n",
    "data['droff_day_no'] = data['dropoff_datetime'].dt.weekday"
   ]
  },
  {
   "cell_type": "code",
   "execution_count": 17,
   "id": "73fedb76",
   "metadata": {},
   "outputs": [
    {
     "data": {
      "text/plain": [
       "(39396, 18)"
      ]
     },
     "execution_count": 17,
     "metadata": {},
     "output_type": "execute_result"
    }
   ],
   "source": [
    "data.shape"
   ]
  },
  {
   "cell_type": "code",
   "execution_count": 18,
   "id": "abfde101",
   "metadata": {},
   "outputs": [
    {
     "data": {
      "text/html": [
       "<div>\n",
       "<style scoped>\n",
       "    .dataframe tbody tr th:only-of-type {\n",
       "        vertical-align: middle;\n",
       "    }\n",
       "\n",
       "    .dataframe tbody tr th {\n",
       "        vertical-align: top;\n",
       "    }\n",
       "\n",
       "    .dataframe thead th {\n",
       "        text-align: right;\n",
       "    }\n",
       "</style>\n",
       "<table border=\"1\" class=\"dataframe\">\n",
       "  <thead>\n",
       "    <tr style=\"text-align: right;\">\n",
       "      <th></th>\n",
       "      <th>id</th>\n",
       "      <th>vendor_id</th>\n",
       "      <th>pickup_datetime</th>\n",
       "      <th>dropoff_datetime</th>\n",
       "      <th>passenger_count</th>\n",
       "      <th>pickup_longitude</th>\n",
       "      <th>pickup_latitude</th>\n",
       "      <th>dropoff_longitude</th>\n",
       "      <th>dropoff_latitude</th>\n",
       "      <th>store_and_fwd_flag</th>\n",
       "      <th>gc_distance</th>\n",
       "      <th>trip_duration</th>\n",
       "      <th>google_distance</th>\n",
       "      <th>google_duration</th>\n",
       "      <th>pickup_day</th>\n",
       "      <th>dropoff_day</th>\n",
       "      <th>pickup_day_no</th>\n",
       "      <th>droff_day_no</th>\n",
       "    </tr>\n",
       "  </thead>\n",
       "  <tbody>\n",
       "    <tr>\n",
       "      <th>37960</th>\n",
       "      <td>id0793264</td>\n",
       "      <td>2</td>\n",
       "      <td>2016-01-08 17:46:00</td>\n",
       "      <td>2016-01-08 17:53:00</td>\n",
       "      <td>2</td>\n",
       "      <td>-73.974472</td>\n",
       "      <td>40.679996</td>\n",
       "      <td>-73.988258</td>\n",
       "      <td>40.688339</td>\n",
       "      <td>N</td>\n",
       "      <td>0.924395</td>\n",
       "      <td>441</td>\n",
       "      <td>1724.0</td>\n",
       "      <td>439.0</td>\n",
       "      <td>Friday</td>\n",
       "      <td>Friday</td>\n",
       "      <td>4</td>\n",
       "      <td>4</td>\n",
       "    </tr>\n",
       "    <tr>\n",
       "      <th>33987</th>\n",
       "      <td>id3292320</td>\n",
       "      <td>1</td>\n",
       "      <td>2016-01-07 23:11:00</td>\n",
       "      <td>2016-01-07 23:35:00</td>\n",
       "      <td>1</td>\n",
       "      <td>-73.989014</td>\n",
       "      <td>40.753517</td>\n",
       "      <td>-73.939194</td>\n",
       "      <td>40.825802</td>\n",
       "      <td>N</td>\n",
       "      <td>5.635056</td>\n",
       "      <td>1445</td>\n",
       "      <td>13427.0</td>\n",
       "      <td>1503.0</td>\n",
       "      <td>Thursday</td>\n",
       "      <td>Thursday</td>\n",
       "      <td>3</td>\n",
       "      <td>3</td>\n",
       "    </tr>\n",
       "    <tr>\n",
       "      <th>37951</th>\n",
       "      <td>id1913306</td>\n",
       "      <td>1</td>\n",
       "      <td>2016-01-08 17:44:00</td>\n",
       "      <td>2016-01-08 18:04:00</td>\n",
       "      <td>3</td>\n",
       "      <td>-73.961205</td>\n",
       "      <td>40.773941</td>\n",
       "      <td>-73.986176</td>\n",
       "      <td>40.778885</td>\n",
       "      <td>N</td>\n",
       "      <td>1.350826</td>\n",
       "      <td>1216</td>\n",
       "      <td>3295.0</td>\n",
       "      <td>758.0</td>\n",
       "      <td>Friday</td>\n",
       "      <td>Friday</td>\n",
       "      <td>4</td>\n",
       "      <td>4</td>\n",
       "    </tr>\n",
       "    <tr>\n",
       "      <th>1197</th>\n",
       "      <td>id2782945</td>\n",
       "      <td>2</td>\n",
       "      <td>2016-01-01 03:05:00</td>\n",
       "      <td>2016-01-01 03:12:00</td>\n",
       "      <td>1</td>\n",
       "      <td>-73.991508</td>\n",
       "      <td>40.750004</td>\n",
       "      <td>-73.988594</td>\n",
       "      <td>40.759586</td>\n",
       "      <td>N</td>\n",
       "      <td>0.679624</td>\n",
       "      <td>396</td>\n",
       "      <td>1543.0</td>\n",
       "      <td>627.0</td>\n",
       "      <td>Friday</td>\n",
       "      <td>Friday</td>\n",
       "      <td>4</td>\n",
       "      <td>4</td>\n",
       "    </tr>\n",
       "    <tr>\n",
       "      <th>16699</th>\n",
       "      <td>id1584543</td>\n",
       "      <td>2</td>\n",
       "      <td>2016-01-04 14:28:00</td>\n",
       "      <td>2016-01-04 15:01:00</td>\n",
       "      <td>1</td>\n",
       "      <td>-73.863449</td>\n",
       "      <td>40.769951</td>\n",
       "      <td>-73.982040</td>\n",
       "      <td>40.783230</td>\n",
       "      <td>N</td>\n",
       "      <td>6.274136</td>\n",
       "      <td>1971</td>\n",
       "      <td>25145.0</td>\n",
       "      <td>1972.0</td>\n",
       "      <td>Monday</td>\n",
       "      <td>Monday</td>\n",
       "      <td>0</td>\n",
       "      <td>0</td>\n",
       "    </tr>\n",
       "  </tbody>\n",
       "</table>\n",
       "</div>"
      ],
      "text/plain": [
       "              id  vendor_id     pickup_datetime    dropoff_datetime  \\\n",
       "37960  id0793264          2 2016-01-08 17:46:00 2016-01-08 17:53:00   \n",
       "33987  id3292320          1 2016-01-07 23:11:00 2016-01-07 23:35:00   \n",
       "37951  id1913306          1 2016-01-08 17:44:00 2016-01-08 18:04:00   \n",
       "1197   id2782945          2 2016-01-01 03:05:00 2016-01-01 03:12:00   \n",
       "16699  id1584543          2 2016-01-04 14:28:00 2016-01-04 15:01:00   \n",
       "\n",
       "       passenger_count  pickup_longitude  pickup_latitude  dropoff_longitude  \\\n",
       "37960                2        -73.974472        40.679996         -73.988258   \n",
       "33987                1        -73.989014        40.753517         -73.939194   \n",
       "37951                3        -73.961205        40.773941         -73.986176   \n",
       "1197                 1        -73.991508        40.750004         -73.988594   \n",
       "16699                1        -73.863449        40.769951         -73.982040   \n",
       "\n",
       "       dropoff_latitude store_and_fwd_flag  gc_distance  trip_duration  \\\n",
       "37960         40.688339                  N     0.924395            441   \n",
       "33987         40.825802                  N     5.635056           1445   \n",
       "37951         40.778885                  N     1.350826           1216   \n",
       "1197          40.759586                  N     0.679624            396   \n",
       "16699         40.783230                  N     6.274136           1971   \n",
       "\n",
       "       google_distance  google_duration pickup_day dropoff_day  pickup_day_no  \\\n",
       "37960           1724.0            439.0     Friday      Friday              4   \n",
       "33987          13427.0           1503.0   Thursday    Thursday              3   \n",
       "37951           3295.0            758.0     Friday      Friday              4   \n",
       "1197            1543.0            627.0     Friday      Friday              4   \n",
       "16699          25145.0           1972.0     Monday      Monday              0   \n",
       "\n",
       "       droff_day_no  \n",
       "37960             4  \n",
       "33987             3  \n",
       "37951             4  \n",
       "1197              4  \n",
       "16699             0  "
      ]
     },
     "execution_count": 18,
     "metadata": {},
     "output_type": "execute_result"
    }
   ],
   "source": [
    "data.sample(5)"
   ]
  },
  {
   "cell_type": "code",
   "execution_count": 19,
   "id": "4aa18a1c",
   "metadata": {},
   "outputs": [],
   "source": [
    "data['pickup_hour'] = data['pickup_datetime'].dt.hour\n",
    "data['dropoff_hour'] = data['dropoff_datetime'].dt.hour\n",
    "\n",
    "data['pickup_month'] = data['pickup_datetime'].dt.month\n",
    "data['dropoff_month'] = data['pickup_datetime'].dt.month"
   ]
  },
  {
   "cell_type": "code",
   "execution_count": 20,
   "id": "586f476c",
   "metadata": {},
   "outputs": [
    {
     "data": {
      "text/html": [
       "<div>\n",
       "<style scoped>\n",
       "    .dataframe tbody tr th:only-of-type {\n",
       "        vertical-align: middle;\n",
       "    }\n",
       "\n",
       "    .dataframe tbody tr th {\n",
       "        vertical-align: top;\n",
       "    }\n",
       "\n",
       "    .dataframe thead th {\n",
       "        text-align: right;\n",
       "    }\n",
       "</style>\n",
       "<table border=\"1\" class=\"dataframe\">\n",
       "  <thead>\n",
       "    <tr style=\"text-align: right;\">\n",
       "      <th></th>\n",
       "      <th>id</th>\n",
       "      <th>vendor_id</th>\n",
       "      <th>pickup_datetime</th>\n",
       "      <th>dropoff_datetime</th>\n",
       "      <th>passenger_count</th>\n",
       "      <th>pickup_longitude</th>\n",
       "      <th>pickup_latitude</th>\n",
       "      <th>dropoff_longitude</th>\n",
       "      <th>dropoff_latitude</th>\n",
       "      <th>store_and_fwd_flag</th>\n",
       "      <th>...</th>\n",
       "      <th>google_distance</th>\n",
       "      <th>google_duration</th>\n",
       "      <th>pickup_day</th>\n",
       "      <th>dropoff_day</th>\n",
       "      <th>pickup_day_no</th>\n",
       "      <th>droff_day_no</th>\n",
       "      <th>pickup_hour</th>\n",
       "      <th>dropoff_hour</th>\n",
       "      <th>pickup_month</th>\n",
       "      <th>dropoff_month</th>\n",
       "    </tr>\n",
       "  </thead>\n",
       "  <tbody>\n",
       "    <tr>\n",
       "      <th>24089</th>\n",
       "      <td>id3154578</td>\n",
       "      <td>1</td>\n",
       "      <td>2016-01-06 08:08:00</td>\n",
       "      <td>2016-01-06 08:21:00</td>\n",
       "      <td>1</td>\n",
       "      <td>-73.951179</td>\n",
       "      <td>40.785427</td>\n",
       "      <td>-73.973511</td>\n",
       "      <td>40.763611</td>\n",
       "      <td>N</td>\n",
       "      <td>...</td>\n",
       "      <td>3501.0</td>\n",
       "      <td>851.0</td>\n",
       "      <td>Wednesday</td>\n",
       "      <td>Wednesday</td>\n",
       "      <td>2</td>\n",
       "      <td>2</td>\n",
       "      <td>8</td>\n",
       "      <td>8</td>\n",
       "      <td>1</td>\n",
       "      <td>1</td>\n",
       "    </tr>\n",
       "    <tr>\n",
       "      <th>35416</th>\n",
       "      <td>id3488605</td>\n",
       "      <td>1</td>\n",
       "      <td>2016-01-08 08:53:00</td>\n",
       "      <td>2016-01-08 09:08:00</td>\n",
       "      <td>1</td>\n",
       "      <td>-73.994789</td>\n",
       "      <td>40.745152</td>\n",
       "      <td>-73.980255</td>\n",
       "      <td>40.756596</td>\n",
       "      <td>N</td>\n",
       "      <td>...</td>\n",
       "      <td>2276.0</td>\n",
       "      <td>652.0</td>\n",
       "      <td>Friday</td>\n",
       "      <td>Friday</td>\n",
       "      <td>4</td>\n",
       "      <td>4</td>\n",
       "      <td>8</td>\n",
       "      <td>9</td>\n",
       "      <td>1</td>\n",
       "      <td>1</td>\n",
       "    </tr>\n",
       "    <tr>\n",
       "      <th>32051</th>\n",
       "      <td>id1298820</td>\n",
       "      <td>1</td>\n",
       "      <td>2016-01-07 17:44:00</td>\n",
       "      <td>2016-01-07 17:51:00</td>\n",
       "      <td>1</td>\n",
       "      <td>-73.955757</td>\n",
       "      <td>40.768143</td>\n",
       "      <td>-73.955071</td>\n",
       "      <td>40.780231</td>\n",
       "      <td>N</td>\n",
       "      <td>...</td>\n",
       "      <td>2106.0</td>\n",
       "      <td>472.0</td>\n",
       "      <td>Thursday</td>\n",
       "      <td>Thursday</td>\n",
       "      <td>3</td>\n",
       "      <td>3</td>\n",
       "      <td>17</td>\n",
       "      <td>17</td>\n",
       "      <td>1</td>\n",
       "      <td>1</td>\n",
       "    </tr>\n",
       "    <tr>\n",
       "      <th>10429</th>\n",
       "      <td>id1182256</td>\n",
       "      <td>1</td>\n",
       "      <td>2016-01-03 02:10:00</td>\n",
       "      <td>2016-01-03 02:18:00</td>\n",
       "      <td>1</td>\n",
       "      <td>-73.992004</td>\n",
       "      <td>40.725658</td>\n",
       "      <td>-74.010666</td>\n",
       "      <td>40.717522</td>\n",
       "      <td>N</td>\n",
       "      <td>...</td>\n",
       "      <td>2782.0</td>\n",
       "      <td>832.0</td>\n",
       "      <td>Sunday</td>\n",
       "      <td>Sunday</td>\n",
       "      <td>6</td>\n",
       "      <td>6</td>\n",
       "      <td>2</td>\n",
       "      <td>2</td>\n",
       "      <td>1</td>\n",
       "      <td>1</td>\n",
       "    </tr>\n",
       "    <tr>\n",
       "      <th>2216</th>\n",
       "      <td>id2489507</td>\n",
       "      <td>2</td>\n",
       "      <td>2016-01-01 10:16:00</td>\n",
       "      <td>2016-01-01 10:21:00</td>\n",
       "      <td>1</td>\n",
       "      <td>-73.978287</td>\n",
       "      <td>40.766491</td>\n",
       "      <td>-73.977310</td>\n",
       "      <td>40.751801</td>\n",
       "      <td>N</td>\n",
       "      <td>...</td>\n",
       "      <td>2395.0</td>\n",
       "      <td>697.0</td>\n",
       "      <td>Friday</td>\n",
       "      <td>Friday</td>\n",
       "      <td>4</td>\n",
       "      <td>4</td>\n",
       "      <td>10</td>\n",
       "      <td>10</td>\n",
       "      <td>1</td>\n",
       "      <td>1</td>\n",
       "    </tr>\n",
       "  </tbody>\n",
       "</table>\n",
       "<p>5 rows × 22 columns</p>\n",
       "</div>"
      ],
      "text/plain": [
       "              id  vendor_id     pickup_datetime    dropoff_datetime  \\\n",
       "24089  id3154578          1 2016-01-06 08:08:00 2016-01-06 08:21:00   \n",
       "35416  id3488605          1 2016-01-08 08:53:00 2016-01-08 09:08:00   \n",
       "32051  id1298820          1 2016-01-07 17:44:00 2016-01-07 17:51:00   \n",
       "10429  id1182256          1 2016-01-03 02:10:00 2016-01-03 02:18:00   \n",
       "2216   id2489507          2 2016-01-01 10:16:00 2016-01-01 10:21:00   \n",
       "\n",
       "       passenger_count  pickup_longitude  pickup_latitude  dropoff_longitude  \\\n",
       "24089                1        -73.951179        40.785427         -73.973511   \n",
       "35416                1        -73.994789        40.745152         -73.980255   \n",
       "32051                1        -73.955757        40.768143         -73.955071   \n",
       "10429                1        -73.992004        40.725658         -74.010666   \n",
       "2216                 1        -73.978287        40.766491         -73.977310   \n",
       "\n",
       "       dropoff_latitude store_and_fwd_flag  ...  google_distance  \\\n",
       "24089         40.763611                  N  ...           3501.0   \n",
       "35416         40.756596                  N  ...           2276.0   \n",
       "32051         40.780231                  N  ...           2106.0   \n",
       "10429         40.717522                  N  ...           2782.0   \n",
       "2216          40.751801                  N  ...           2395.0   \n",
       "\n",
       "       google_duration  pickup_day  dropoff_day pickup_day_no droff_day_no  \\\n",
       "24089            851.0   Wednesday    Wednesday             2            2   \n",
       "35416            652.0      Friday       Friday             4            4   \n",
       "32051            472.0    Thursday     Thursday             3            3   \n",
       "10429            832.0      Sunday       Sunday             6            6   \n",
       "2216             697.0      Friday       Friday             4            4   \n",
       "\n",
       "       pickup_hour  dropoff_hour  pickup_month  dropoff_month  \n",
       "24089            8             8             1              1  \n",
       "35416            8             9             1              1  \n",
       "32051           17            17             1              1  \n",
       "10429            2             2             1              1  \n",
       "2216            10            10             1              1  \n",
       "\n",
       "[5 rows x 22 columns]"
      ]
     },
     "execution_count": 20,
     "metadata": {},
     "output_type": "execute_result"
    }
   ],
   "source": [
    "data.sample(5)"
   ]
  },
  {
   "cell_type": "code",
   "execution_count": 21,
   "id": "671e5ac4",
   "metadata": {},
   "outputs": [],
   "source": [
    "def time_of_day(x):\n",
    "    if x in range(6,12):\n",
    "        return 'morning'\n",
    "    elif x in range(12,16):\n",
    "        return 'afternoon'\n",
    "    elif x in range(16,20):\n",
    "        return 'evening'\n",
    "    else:\n",
    "        return 'night'"
   ]
  },
  {
   "cell_type": "code",
   "execution_count": 22,
   "id": "c48163ff",
   "metadata": {},
   "outputs": [],
   "source": [
    "data['pickup_timeofday'] = data['pickup_hour'].apply(time_of_day)\n",
    "data['dropoff_timeofday'] = data['dropoff_hour'].apply(time_of_day)"
   ]
  },
  {
   "cell_type": "code",
   "execution_count": 23,
   "id": "316ff23c",
   "metadata": {},
   "outputs": [
    {
     "data": {
      "text/html": [
       "<div>\n",
       "<style scoped>\n",
       "    .dataframe tbody tr th:only-of-type {\n",
       "        vertical-align: middle;\n",
       "    }\n",
       "\n",
       "    .dataframe tbody tr th {\n",
       "        vertical-align: top;\n",
       "    }\n",
       "\n",
       "    .dataframe thead th {\n",
       "        text-align: right;\n",
       "    }\n",
       "</style>\n",
       "<table border=\"1\" class=\"dataframe\">\n",
       "  <thead>\n",
       "    <tr style=\"text-align: right;\">\n",
       "      <th></th>\n",
       "      <th>id</th>\n",
       "      <th>vendor_id</th>\n",
       "      <th>pickup_datetime</th>\n",
       "      <th>dropoff_datetime</th>\n",
       "      <th>passenger_count</th>\n",
       "      <th>pickup_longitude</th>\n",
       "      <th>pickup_latitude</th>\n",
       "      <th>dropoff_longitude</th>\n",
       "      <th>dropoff_latitude</th>\n",
       "      <th>store_and_fwd_flag</th>\n",
       "      <th>...</th>\n",
       "      <th>pickup_day</th>\n",
       "      <th>dropoff_day</th>\n",
       "      <th>pickup_day_no</th>\n",
       "      <th>droff_day_no</th>\n",
       "      <th>pickup_hour</th>\n",
       "      <th>dropoff_hour</th>\n",
       "      <th>pickup_month</th>\n",
       "      <th>dropoff_month</th>\n",
       "      <th>pickup_timeofday</th>\n",
       "      <th>dropoff_timeofday</th>\n",
       "    </tr>\n",
       "  </thead>\n",
       "  <tbody>\n",
       "    <tr>\n",
       "      <th>21327</th>\n",
       "      <td>id3828306</td>\n",
       "      <td>1</td>\n",
       "      <td>2016-01-05 16:56:00</td>\n",
       "      <td>2016-01-05 17:11:00</td>\n",
       "      <td>1</td>\n",
       "      <td>-73.956467</td>\n",
       "      <td>40.763683</td>\n",
       "      <td>-73.982155</td>\n",
       "      <td>40.765556</td>\n",
       "      <td>N</td>\n",
       "      <td>...</td>\n",
       "      <td>Tuesday</td>\n",
       "      <td>Tuesday</td>\n",
       "      <td>1</td>\n",
       "      <td>1</td>\n",
       "      <td>16</td>\n",
       "      <td>17</td>\n",
       "      <td>1</td>\n",
       "      <td>1</td>\n",
       "      <td>evening</td>\n",
       "      <td>evening</td>\n",
       "    </tr>\n",
       "    <tr>\n",
       "      <th>10277</th>\n",
       "      <td>id1306555</td>\n",
       "      <td>1</td>\n",
       "      <td>2016-01-03 01:33:00</td>\n",
       "      <td>2016-01-03 01:38:00</td>\n",
       "      <td>2</td>\n",
       "      <td>-73.984573</td>\n",
       "      <td>40.750111</td>\n",
       "      <td>-73.992973</td>\n",
       "      <td>40.741371</td>\n",
       "      <td>N</td>\n",
       "      <td>...</td>\n",
       "      <td>Sunday</td>\n",
       "      <td>Sunday</td>\n",
       "      <td>6</td>\n",
       "      <td>6</td>\n",
       "      <td>1</td>\n",
       "      <td>1</td>\n",
       "      <td>1</td>\n",
       "      <td>1</td>\n",
       "      <td>night</td>\n",
       "      <td>night</td>\n",
       "    </tr>\n",
       "    <tr>\n",
       "      <th>7839</th>\n",
       "      <td>id3574752</td>\n",
       "      <td>2</td>\n",
       "      <td>2016-01-02 16:51:00</td>\n",
       "      <td>2016-01-02 16:56:00</td>\n",
       "      <td>5</td>\n",
       "      <td>-73.961021</td>\n",
       "      <td>40.760738</td>\n",
       "      <td>-73.948090</td>\n",
       "      <td>40.778027</td>\n",
       "      <td>N</td>\n",
       "      <td>...</td>\n",
       "      <td>Saturday</td>\n",
       "      <td>Saturday</td>\n",
       "      <td>5</td>\n",
       "      <td>5</td>\n",
       "      <td>16</td>\n",
       "      <td>16</td>\n",
       "      <td>1</td>\n",
       "      <td>1</td>\n",
       "      <td>evening</td>\n",
       "      <td>evening</td>\n",
       "    </tr>\n",
       "    <tr>\n",
       "      <th>9368</th>\n",
       "      <td>id0198526</td>\n",
       "      <td>2</td>\n",
       "      <td>2016-01-02 22:13:00</td>\n",
       "      <td>2016-01-02 22:18:00</td>\n",
       "      <td>1</td>\n",
       "      <td>-74.003906</td>\n",
       "      <td>40.725700</td>\n",
       "      <td>-73.996208</td>\n",
       "      <td>40.742771</td>\n",
       "      <td>N</td>\n",
       "      <td>...</td>\n",
       "      <td>Saturday</td>\n",
       "      <td>Saturday</td>\n",
       "      <td>5</td>\n",
       "      <td>5</td>\n",
       "      <td>22</td>\n",
       "      <td>22</td>\n",
       "      <td>1</td>\n",
       "      <td>1</td>\n",
       "      <td>night</td>\n",
       "      <td>night</td>\n",
       "    </tr>\n",
       "    <tr>\n",
       "      <th>9687</th>\n",
       "      <td>id3475436</td>\n",
       "      <td>2</td>\n",
       "      <td>2016-01-02 23:18:00</td>\n",
       "      <td>2016-01-02 23:28:00</td>\n",
       "      <td>6</td>\n",
       "      <td>-73.958069</td>\n",
       "      <td>40.774769</td>\n",
       "      <td>-73.982277</td>\n",
       "      <td>40.746071</td>\n",
       "      <td>N</td>\n",
       "      <td>...</td>\n",
       "      <td>Saturday</td>\n",
       "      <td>Saturday</td>\n",
       "      <td>5</td>\n",
       "      <td>5</td>\n",
       "      <td>23</td>\n",
       "      <td>23</td>\n",
       "      <td>1</td>\n",
       "      <td>1</td>\n",
       "      <td>night</td>\n",
       "      <td>night</td>\n",
       "    </tr>\n",
       "  </tbody>\n",
       "</table>\n",
       "<p>5 rows × 24 columns</p>\n",
       "</div>"
      ],
      "text/plain": [
       "              id  vendor_id     pickup_datetime    dropoff_datetime  \\\n",
       "21327  id3828306          1 2016-01-05 16:56:00 2016-01-05 17:11:00   \n",
       "10277  id1306555          1 2016-01-03 01:33:00 2016-01-03 01:38:00   \n",
       "7839   id3574752          2 2016-01-02 16:51:00 2016-01-02 16:56:00   \n",
       "9368   id0198526          2 2016-01-02 22:13:00 2016-01-02 22:18:00   \n",
       "9687   id3475436          2 2016-01-02 23:18:00 2016-01-02 23:28:00   \n",
       "\n",
       "       passenger_count  pickup_longitude  pickup_latitude  dropoff_longitude  \\\n",
       "21327                1        -73.956467        40.763683         -73.982155   \n",
       "10277                2        -73.984573        40.750111         -73.992973   \n",
       "7839                 5        -73.961021        40.760738         -73.948090   \n",
       "9368                 1        -74.003906        40.725700         -73.996208   \n",
       "9687                 6        -73.958069        40.774769         -73.982277   \n",
       "\n",
       "       dropoff_latitude store_and_fwd_flag  ...  pickup_day  dropoff_day  \\\n",
       "21327         40.765556                  N  ...     Tuesday      Tuesday   \n",
       "10277         40.741371                  N  ...      Sunday       Sunday   \n",
       "7839          40.778027                  N  ...    Saturday     Saturday   \n",
       "9368          40.742771                  N  ...    Saturday     Saturday   \n",
       "9687          40.746071                  N  ...    Saturday     Saturday   \n",
       "\n",
       "       pickup_day_no  droff_day_no pickup_hour dropoff_hour  pickup_month  \\\n",
       "21327              1             1          16           17             1   \n",
       "10277              6             6           1            1             1   \n",
       "7839               5             5          16           16             1   \n",
       "9368               5             5          22           22             1   \n",
       "9687               5             5          23           23             1   \n",
       "\n",
       "       dropoff_month  pickup_timeofday  dropoff_timeofday  \n",
       "21327              1           evening            evening  \n",
       "10277              1             night              night  \n",
       "7839               1           evening            evening  \n",
       "9368               1             night              night  \n",
       "9687               1             night              night  \n",
       "\n",
       "[5 rows x 24 columns]"
      ]
     },
     "execution_count": 23,
     "metadata": {},
     "output_type": "execute_result"
    }
   ],
   "source": [
    "data.sample(5)"
   ]
  },
  {
   "cell_type": "code",
   "execution_count": 24,
   "id": "57b13490",
   "metadata": {},
   "outputs": [
    {
     "data": {
      "text/plain": [
       "(39396, 24)"
      ]
     },
     "execution_count": 24,
     "metadata": {},
     "output_type": "execute_result"
    }
   ],
   "source": [
    "data.shape"
   ]
  },
  {
   "cell_type": "code",
   "execution_count": 25,
   "id": "3497bb7d",
   "metadata": {},
   "outputs": [],
   "source": [
    "from geopy.distance import great_circle"
   ]
  },
  {
   "cell_type": "code",
   "execution_count": 26,
   "id": "f5ae5873",
   "metadata": {},
   "outputs": [],
   "source": [
    "data['distance'] = data.apply(lambda x : great_circle((x['pickup_latitude'],x['pickup_longitude']), (x['dropoff_latitude'],x['dropoff_longitude'])).km, axis=1)"
   ]
  },
  {
   "cell_type": "code",
   "execution_count": 27,
   "id": "ebedc023",
   "metadata": {},
   "outputs": [],
   "source": [
    "data['distance'] = data.apply(lambda x : great_circle((x['pickup_latitude'],x['pickup_longitude']), (x['dropoff_latitude'],x['dropoff_longitude'])).km, axis=1)"
   ]
  },
  {
   "cell_type": "code",
   "execution_count": 28,
   "id": "60da98ed",
   "metadata": {},
   "outputs": [
    {
     "data": {
      "text/html": [
       "<div>\n",
       "<style scoped>\n",
       "    .dataframe tbody tr th:only-of-type {\n",
       "        vertical-align: middle;\n",
       "    }\n",
       "\n",
       "    .dataframe tbody tr th {\n",
       "        vertical-align: top;\n",
       "    }\n",
       "\n",
       "    .dataframe thead th {\n",
       "        text-align: right;\n",
       "    }\n",
       "</style>\n",
       "<table border=\"1\" class=\"dataframe\">\n",
       "  <thead>\n",
       "    <tr style=\"text-align: right;\">\n",
       "      <th></th>\n",
       "      <th>id</th>\n",
       "      <th>vendor_id</th>\n",
       "      <th>pickup_datetime</th>\n",
       "      <th>dropoff_datetime</th>\n",
       "      <th>passenger_count</th>\n",
       "      <th>pickup_longitude</th>\n",
       "      <th>pickup_latitude</th>\n",
       "      <th>dropoff_longitude</th>\n",
       "      <th>dropoff_latitude</th>\n",
       "      <th>store_and_fwd_flag</th>\n",
       "      <th>...</th>\n",
       "      <th>dropoff_day</th>\n",
       "      <th>pickup_day_no</th>\n",
       "      <th>droff_day_no</th>\n",
       "      <th>pickup_hour</th>\n",
       "      <th>dropoff_hour</th>\n",
       "      <th>pickup_month</th>\n",
       "      <th>dropoff_month</th>\n",
       "      <th>pickup_timeofday</th>\n",
       "      <th>dropoff_timeofday</th>\n",
       "      <th>distance</th>\n",
       "    </tr>\n",
       "  </thead>\n",
       "  <tbody>\n",
       "    <tr>\n",
       "      <th>4324</th>\n",
       "      <td>id2805748</td>\n",
       "      <td>1</td>\n",
       "      <td>2016-01-01 19:37:00</td>\n",
       "      <td>2016-01-01 19:54:00</td>\n",
       "      <td>1</td>\n",
       "      <td>-73.982063</td>\n",
       "      <td>40.772694</td>\n",
       "      <td>-73.987656</td>\n",
       "      <td>40.744190</td>\n",
       "      <td>N</td>\n",
       "      <td>...</td>\n",
       "      <td>Friday</td>\n",
       "      <td>4</td>\n",
       "      <td>4</td>\n",
       "      <td>19</td>\n",
       "      <td>19</td>\n",
       "      <td>1</td>\n",
       "      <td>1</td>\n",
       "      <td>evening</td>\n",
       "      <td>evening</td>\n",
       "      <td>3.204249</td>\n",
       "    </tr>\n",
       "    <tr>\n",
       "      <th>16285</th>\n",
       "      <td>id0490146</td>\n",
       "      <td>2</td>\n",
       "      <td>2016-01-04 12:42:00</td>\n",
       "      <td>2016-01-04 12:46:00</td>\n",
       "      <td>2</td>\n",
       "      <td>-73.963692</td>\n",
       "      <td>40.757092</td>\n",
       "      <td>-73.956459</td>\n",
       "      <td>40.770531</td>\n",
       "      <td>N</td>\n",
       "      <td>...</td>\n",
       "      <td>Monday</td>\n",
       "      <td>0</td>\n",
       "      <td>0</td>\n",
       "      <td>12</td>\n",
       "      <td>12</td>\n",
       "      <td>1</td>\n",
       "      <td>1</td>\n",
       "      <td>afternoon</td>\n",
       "      <td>afternoon</td>\n",
       "      <td>1.613750</td>\n",
       "    </tr>\n",
       "    <tr>\n",
       "      <th>18413</th>\n",
       "      <td>id1380542</td>\n",
       "      <td>1</td>\n",
       "      <td>2016-01-04 20:13:00</td>\n",
       "      <td>2016-01-04 20:17:00</td>\n",
       "      <td>1</td>\n",
       "      <td>-73.954079</td>\n",
       "      <td>40.766945</td>\n",
       "      <td>-73.945351</td>\n",
       "      <td>40.775303</td>\n",
       "      <td>N</td>\n",
       "      <td>...</td>\n",
       "      <td>Monday</td>\n",
       "      <td>0</td>\n",
       "      <td>0</td>\n",
       "      <td>20</td>\n",
       "      <td>20</td>\n",
       "      <td>1</td>\n",
       "      <td>1</td>\n",
       "      <td>night</td>\n",
       "      <td>night</td>\n",
       "      <td>1.184880</td>\n",
       "    </tr>\n",
       "    <tr>\n",
       "      <th>12361</th>\n",
       "      <td>id1514786</td>\n",
       "      <td>2</td>\n",
       "      <td>2016-01-03 14:29:00</td>\n",
       "      <td>2016-01-03 14:38:00</td>\n",
       "      <td>2</td>\n",
       "      <td>-73.967865</td>\n",
       "      <td>40.762634</td>\n",
       "      <td>-73.988663</td>\n",
       "      <td>40.739700</td>\n",
       "      <td>N</td>\n",
       "      <td>...</td>\n",
       "      <td>Sunday</td>\n",
       "      <td>6</td>\n",
       "      <td>6</td>\n",
       "      <td>14</td>\n",
       "      <td>14</td>\n",
       "      <td>1</td>\n",
       "      <td>1</td>\n",
       "      <td>afternoon</td>\n",
       "      <td>afternoon</td>\n",
       "      <td>3.093937</td>\n",
       "    </tr>\n",
       "    <tr>\n",
       "      <th>29138</th>\n",
       "      <td>id3598652</td>\n",
       "      <td>1</td>\n",
       "      <td>2016-01-07 07:02:00</td>\n",
       "      <td>2016-01-07 07:20:00</td>\n",
       "      <td>1</td>\n",
       "      <td>-73.952362</td>\n",
       "      <td>40.772793</td>\n",
       "      <td>-73.935616</td>\n",
       "      <td>40.795780</td>\n",
       "      <td>N</td>\n",
       "      <td>...</td>\n",
       "      <td>Thursday</td>\n",
       "      <td>3</td>\n",
       "      <td>3</td>\n",
       "      <td>7</td>\n",
       "      <td>7</td>\n",
       "      <td>1</td>\n",
       "      <td>1</td>\n",
       "      <td>morning</td>\n",
       "      <td>morning</td>\n",
       "      <td>2.919166</td>\n",
       "    </tr>\n",
       "  </tbody>\n",
       "</table>\n",
       "<p>5 rows × 25 columns</p>\n",
       "</div>"
      ],
      "text/plain": [
       "              id  vendor_id     pickup_datetime    dropoff_datetime  \\\n",
       "4324   id2805748          1 2016-01-01 19:37:00 2016-01-01 19:54:00   \n",
       "16285  id0490146          2 2016-01-04 12:42:00 2016-01-04 12:46:00   \n",
       "18413  id1380542          1 2016-01-04 20:13:00 2016-01-04 20:17:00   \n",
       "12361  id1514786          2 2016-01-03 14:29:00 2016-01-03 14:38:00   \n",
       "29138  id3598652          1 2016-01-07 07:02:00 2016-01-07 07:20:00   \n",
       "\n",
       "       passenger_count  pickup_longitude  pickup_latitude  dropoff_longitude  \\\n",
       "4324                 1        -73.982063        40.772694         -73.987656   \n",
       "16285                2        -73.963692        40.757092         -73.956459   \n",
       "18413                1        -73.954079        40.766945         -73.945351   \n",
       "12361                2        -73.967865        40.762634         -73.988663   \n",
       "29138                1        -73.952362        40.772793         -73.935616   \n",
       "\n",
       "       dropoff_latitude store_and_fwd_flag  ...  dropoff_day  pickup_day_no  \\\n",
       "4324          40.744190                  N  ...       Friday              4   \n",
       "16285         40.770531                  N  ...       Monday              0   \n",
       "18413         40.775303                  N  ...       Monday              0   \n",
       "12361         40.739700                  N  ...       Sunday              6   \n",
       "29138         40.795780                  N  ...     Thursday              3   \n",
       "\n",
       "       droff_day_no  pickup_hour dropoff_hour pickup_month  dropoff_month  \\\n",
       "4324              4           19           19            1              1   \n",
       "16285             0           12           12            1              1   \n",
       "18413             0           20           20            1              1   \n",
       "12361             6           14           14            1              1   \n",
       "29138             3            7            7            1              1   \n",
       "\n",
       "       pickup_timeofday  dropoff_timeofday  distance  \n",
       "4324            evening            evening  3.204249  \n",
       "16285         afternoon          afternoon  1.613750  \n",
       "18413             night              night  1.184880  \n",
       "12361         afternoon          afternoon  3.093937  \n",
       "29138           morning            morning  2.919166  \n",
       "\n",
       "[5 rows x 25 columns]"
      ]
     },
     "execution_count": 28,
     "metadata": {},
     "output_type": "execute_result"
    }
   ],
   "source": [
    "data.sample(5)"
   ]
  },
  {
   "cell_type": "code",
   "execution_count": 29,
   "id": "4435cb2e",
   "metadata": {
    "scrolled": false
   },
   "outputs": [
    {
     "data": {
      "text/plain": [
       "<AxesSubplot: xlabel='trip_duration', ylabel='Count'>"
      ]
     },
     "execution_count": 29,
     "metadata": {},
     "output_type": "execute_result"
    },
    {
     "data": {
      "image/png": "[encoded data removed]",
      "text/plain": [
       "<Figure size 640x480 with 1 Axes>"
      ]
     },
     "metadata": {},
     "output_type": "display_data"
    }
   ],
   "source": [
    "sns.histplot(data['trip_duration'], kde=False,bins = 20)"
   ]
  },
  {
   "cell_type": "code",
   "execution_count": 30,
   "id": "f5520d8b",
   "metadata": {},
   "outputs": [
    {
     "data": {
      "text/plain": [
       "<AxesSubplot: >"
      ]
     },
     "execution_count": 30,
     "metadata": {},
     "output_type": "execute_result"
    },
    {
     "data": {
      "image/png": "[encoded data removed]",
      "text/plain": [
       "<Figure size 640x480 with 1 Axes>"
      ]
     },
     "metadata": {},
     "output_type": "display_data"
    }
   ],
   "source": [
    "sns.boxplot(data['trip_duration'])"
   ]
  },
  {
   "cell_type": "code",
   "execution_count": 31,
   "id": "5850884e",
   "metadata": {},
   "outputs": [
    {
     "data": {
      "text/plain": [
       "19563    2227612\n",
       "19297    1939736\n",
       "17686      86354\n",
       "2578       86353\n",
       "20824      86346\n",
       "          ...   \n",
       "7406           3\n",
       "19101          3\n",
       "32884          3\n",
       "32995          3\n",
       "32060          2\n",
       "Name: trip_duration, Length: 39396, dtype: int64"
      ]
     },
     "execution_count": 31,
     "metadata": {},
     "output_type": "execute_result"
    }
   ],
   "source": [
    "data['trip_duration'].sort_values(ascending = False)"
   ]
  },
  {
   "cell_type": "code",
   "execution_count": 32,
   "id": "de61f7c8",
   "metadata": {},
   "outputs": [],
   "source": [
    "data.drop(data[data['trip_duration'] == 1939736].index, inplace=True)"
   ]
  },
  {
   "cell_type": "code",
   "execution_count": 33,
   "id": "1829248d",
   "metadata": {},
   "outputs": [
    {
     "data": {
      "text/plain": [
       "<AxesSubplot: xlabel='vendor_id', ylabel='count'>"
      ]
     },
     "execution_count": 33,
     "metadata": {},
     "output_type": "execute_result"
    },
    {
     "data": {
      "image/png": "[encoded data removed]",
      "text/plain": [
       "<Figure size 640x480 with 1 Axes>"
      ]
     },
     "metadata": {},
     "output_type": "display_data"
    }
   ],
   "source": [
    "sns.countplot(x ='vendor_id' ,data = data)"
   ]
  },
  {
   "cell_type": "code",
   "execution_count": 34,
   "id": "a5cc7c89",
   "metadata": {},
   "outputs": [
    {
     "data": {
      "text/plain": [
       "1    27494\n",
       "2     5803\n",
       "5     2202\n",
       "3     1654\n",
       "6     1310\n",
       "4      926\n",
       "0        5\n",
       "8        1\n",
       "Name: passenger_count, dtype: int64"
      ]
     },
     "execution_count": 34,
     "metadata": {},
     "output_type": "execute_result"
    }
   ],
   "source": [
    "data.passenger_count.value_counts()"
   ]
  },
  {
   "cell_type": "code",
   "execution_count": 35,
   "id": "9c8a30cb",
   "metadata": {},
   "outputs": [
    {
     "data": {
      "text/plain": [
       "<AxesSubplot: xlabel='passenger_count', ylabel='count'>"
      ]
     },
     "execution_count": 35,
     "metadata": {},
     "output_type": "execute_result"
    },
    {
     "data": {
      "image/png": "[encoded data removed]",
      "text/plain": [
       "<Figure size 640x480 with 1 Axes>"
      ]
     },
     "metadata": {},
     "output_type": "display_data"
    }
   ],
   "source": [
    "sns.countplot(x = 'passenger_count', data = data)"
   ]
  },
  {
   "cell_type": "code",
   "execution_count": 36,
   "id": "13524e5d",
   "metadata": {},
   "outputs": [],
   "source": [
    "data = data[data['passenger_count']!= 0]\n",
    "data = data[data['passenger_count']<= 6]"
   ]
  },
  {
   "cell_type": "code",
   "execution_count": 37,
   "id": "d04afc3c",
   "metadata": {},
   "outputs": [
    {
     "data": {
      "text/plain": [
       "N    0.994161\n",
       "Y    0.005839\n",
       "Name: store_and_fwd_flag, dtype: float64"
      ]
     },
     "execution_count": 37,
     "metadata": {},
     "output_type": "execute_result"
    }
   ],
   "source": [
    "data['store_and_fwd_flag'].value_counts(normalize = True)"
   ]
  },
  {
   "cell_type": "code",
   "execution_count": 38,
   "id": "f6bdeb23",
   "metadata": {},
   "outputs": [
    {
     "data": {
      "text/plain": [
       "0.000000    157\n",
       "0.000424      2\n",
       "0.000425      2\n",
       "0.002122      2\n",
       "0.873825      1\n",
       "           ... \n",
       "2.769188      1\n",
       "2.099296      1\n",
       "0.545191      1\n",
       "0.911024      1\n",
       "2.559491      1\n",
       "Name: distance, Length: 39230, dtype: int64"
      ]
     },
     "execution_count": 38,
     "metadata": {},
     "output_type": "execute_result"
    }
   ],
   "source": [
    "data['distance'].value_counts()"
   ]
  },
  {
   "cell_type": "code",
   "execution_count": 39,
   "id": "a0ec8ffa",
   "metadata": {},
   "outputs": [
    {
     "data": {
      "image/png": "[encoded data removed]",
      "text/plain": [
       "<Figure size 2000x500 with 2 Axes>"
      ]
     },
     "metadata": {},
     "output_type": "display_data"
    }
   ],
   "source": [
    "figure , (ax1,ax2) = plt.subplots(ncols = 2, figsize = (20,5))\n",
    "ax1.set_title('Pickup_Days')\n",
    "ax = sns.countplot(x = 'pickup_day', data = data, ax = ax1)\n",
    "\n",
    "ax2.set_title('Dropoff Days')\n",
    "ax = sns.countplot(x ='dropoff_day', data = data, ax =ax2)"
   ]
  },
  {
   "cell_type": "code",
   "execution_count": 40,
   "id": "c9fa716d",
   "metadata": {},
   "outputs": [
    {
     "data": {
      "image/png": "[encoded data removed]",
      "text/plain": [
       "<Figure size 2000x500 with 2 Axes>"
      ]
     },
     "metadata": {},
     "output_type": "display_data"
    }
   ],
   "source": [
    "figure, (ax9,ax10) = plt.subplots(ncols = 2, figsize= (20,5))\n",
    "ax9.set_title('Pickup_Days')\n",
    "ax= sns.countplot(x ='pickup_hour', data = data, ax = ax9)\n",
    "\n",
    "ax10.set_title('Dropoff Days')\n",
    "ax = sns.countplot(x ='dropoff_hour', data = data, ax = ax10)"
   ]
  },
  {
   "cell_type": "code",
   "execution_count": 41,
   "id": "9a02f243",
   "metadata": {},
   "outputs": [
    {
     "data": {
      "image/png": "[encoded data removed]",
      "text/plain": [
       "<Figure size 2000x600 with 2 Axes>"
      ]
     },
     "metadata": {},
     "output_type": "display_data"
    }
   ],
   "source": [
    "figure ,(ax3,ax4) = plt.subplots(ncols = 2, figsize=(20,6))\n",
    "ax3.set_title('Pickup Time of Day')\n",
    "ax = sns.countplot(x ='pickup_timeofday', data=data,ax = ax3)\n",
    "\n",
    "ax4.set_title('Dropoff Time of Day')\n",
    "ax = sns.countplot(x = 'dropoff_timeofday', data = data, ax=ax4)"
   ]
  },
  {
   "cell_type": "code",
   "execution_count": 42,
   "id": "fa50a6fb",
   "metadata": {},
   "outputs": [
    {
     "data": {
      "image/png": "[encoded data removed]",
      "text/plain": [
       "<Figure size 2000x500 with 2 Axes>"
      ]
     },
     "metadata": {},
     "output_type": "display_data"
    }
   ],
   "source": [
    "figure,(ax11,ax12) = plt.subplots(ncols = 2, figsize=(20,5))\n",
    "ax11.set_title('Pickup_month')\n",
    "ax = sns.countplot(x ='pickup_month', data = data, ax=ax11)\n",
    "ax12.set_title('Dropoff_Month')\n",
    "ax = sns.countplot(x ='dropoff_month', data = data, ax = ax12)"
   ]
  },
  {
   "cell_type": "code",
   "execution_count": 43,
   "id": "2004e510",
   "metadata": {},
   "outputs": [
    {
     "data": {
      "text/plain": [
       "<AxesSubplot: xlabel='vendor_id', ylabel='trip_duration'>"
      ]
     },
     "execution_count": 43,
     "metadata": {},
     "output_type": "execute_result"
    },
    {
     "data": {
      "image/png": "[encoded data removed]",
      "text/plain": [
       "<Figure size 640x480 with 1 Axes>"
      ]
     },
     "metadata": {},
     "output_type": "display_data"
    }
   ],
   "source": [
    "sns.barplot(y = 'trip_duration', x = 'vendor_id', data = data,\n",
    "            estimator = np.mean)"
   ]
  },
  {
   "cell_type": "code",
   "execution_count": 44,
   "id": "2e57e08a",
   "metadata": {},
   "outputs": [
    {
     "data": {
      "text/plain": [
       "<seaborn.axisgrid.FacetGrid at 0x7ff2e201b520>"
      ]
     },
     "execution_count": 44,
     "metadata": {},
     "output_type": "execute_result"
    },
    {
     "data": {
      "image/png": "[encoded data removed]",
      "text/plain": [
       "<Figure size 500x500 with 1 Axes>"
      ]
     },
     "metadata": {},
     "output_type": "display_data"
    }
   ],
   "source": [
    "sns.catplot( y = 'trip_duration',x = 'store_and_fwd_flag', data = data, kind ='strip')"
   ]
  },
  {
   "cell_type": "code",
   "execution_count": 45,
   "id": "2251b58c",
   "metadata": {},
   "outputs": [
    {
     "data": {
      "text/plain": [
       "<seaborn.axisgrid.FacetGrid at 0x7ff2e1e6ff10>"
      ]
     },
     "execution_count": 45,
     "metadata": {},
     "output_type": "execute_result"
    },
    {
     "data": {
      "image/png": "[encoded data removed]",
      "text/plain": [
       "<Figure size 500x500 with 1 Axes>"
      ]
     },
     "metadata": {},
     "output_type": "display_data"
    }
   ],
   "source": [
    "sns.catplot(y = 'trip_duration', x ='passenger_count', data = data , kind = 'strip')\n"
   ]
  },
  {
   "cell_type": "code",
   "execution_count": 46,
   "id": "36fc78ec",
   "metadata": {},
   "outputs": [
    {
     "data": {
      "text/plain": [
       "<AxesSubplot: xlabel='pickup_hour', ylabel='trip_duration'>"
      ]
     },
     "execution_count": 46,
     "metadata": {},
     "output_type": "execute_result"
    },
    {
     "data": {
      "image/png": "[encoded data removed]",
      "text/plain": [
       "<Figure size 640x480 with 1 Axes>"
      ]
     },
     "metadata": {},
     "output_type": "display_data"
    }
   ],
   "source": [
    "sns.lineplot(x = 'pickup_hour', y = 'trip_duration', data = data)"
   ]
  },
  {
   "cell_type": "code",
   "execution_count": 47,
   "id": "5c1935e3",
   "metadata": {},
   "outputs": [
    {
     "data": {
      "text/plain": [
       "<AxesSubplot: xlabel='vendor_id', ylabel='distance'>"
      ]
     },
     "execution_count": 47,
     "metadata": {},
     "output_type": "execute_result"
    },
    {
     "data": {
      "image/png": "[encoded data removed]",
      "text/plain": [
       "<Figure size 640x480 with 1 Axes>"
      ]
     },
     "metadata": {},
     "output_type": "display_data"
    }
   ],
   "source": [
    "sns.barplot(y = 'distance', x  ='vendor_id', data = data, estimator = np.mean)"
   ]
  },
  {
   "cell_type": "code",
   "execution_count": 48,
   "id": "155246e7",
   "metadata": {},
   "outputs": [
    {
     "data": {
      "text/plain": [
       "<seaborn.axisgrid.FacetGrid at 0x7ff2e1b86850>"
      ]
     },
     "execution_count": 48,
     "metadata": {},
     "output_type": "execute_result"
    },
    {
     "data": {
      "image/png": "[encoded data removed]",
      "text/plain": [
       "<Figure size 500x500 with 1 Axes>"
      ]
     },
     "metadata": {},
     "output_type": "display_data"
    }
   ],
   "source": [
    "sns.catplot(y = 'distance', x='store_and_fwd_flag', data = data, kind='strip')"
   ]
  },
  {
   "cell_type": "code",
   "execution_count": 49,
   "id": "755f67c7",
   "metadata": {},
   "outputs": [
    {
     "data": {
      "text/plain": [
       "<seaborn.axisgrid.FacetGrid at 0x7ff2e1b39f40>"
      ]
     },
     "execution_count": 49,
     "metadata": {},
     "output_type": "execute_result"
    },
    {
     "data": {
      "image/png": "[encoded data removed]",
      "text/plain": [
       "<Figure size 500x500 with 1 Axes>"
      ]
     },
     "metadata": {},
     "output_type": "display_data"
    }
   ],
   "source": [
    "sns.catplot(x ='pickup_day_no', y='distance', data = data)"
   ]
  },
  {
   "cell_type": "code",
   "execution_count": 50,
   "id": "4f566588",
   "metadata": {},
   "outputs": [
    {
     "data": {
      "text/plain": [
       "<AxesSubplot: xlabel='pickup_day_no', ylabel='distance'>"
      ]
     },
     "execution_count": 50,
     "metadata": {},
     "output_type": "execute_result"
    },
    {
     "data": {
      "image/png": "[encoded data removed]",
      "text/plain": [
       "<Figure size 640x480 with 1 Axes>"
      ]
     },
     "metadata": {},
     "output_type": "display_data"
    }
   ],
   "source": [
    "sns.lineplot(x ='pickup_day_no', y='distance', data = data)"
   ]
  },
  {
   "cell_type": "code",
   "execution_count": 51,
   "id": "e49aa9cf",
   "metadata": {},
   "outputs": [
    {
     "data": {
      "text/plain": [
       "<seaborn.axisgrid.FacetGrid at 0x7ff2e1974c70>"
      ]
     },
     "execution_count": 51,
     "metadata": {},
     "output_type": "execute_result"
    },
    {
     "data": {
      "image/png": "[encoded data removed]",
      "text/plain": [
       "<Figure size 500x500 with 1 Axes>"
      ]
     },
     "metadata": {},
     "output_type": "display_data"
    }
   ],
   "source": [
    "sns.relplot(y = data.distance, x= 'trip_duration', data = data)"
   ]
  },
  {
   "cell_type": "code",
   "execution_count": 52,
   "id": "3ca293a5",
   "metadata": {
    "scrolled": true
   },
   "outputs": [
    {
     "data": {
      "text/html": [
       "<div>\n",
       "<style scoped>\n",
       "    .dataframe tbody tr th:only-of-type {\n",
       "        vertical-align: middle;\n",
       "    }\n",
       "\n",
       "    .dataframe tbody tr th {\n",
       "        vertical-align: top;\n",
       "    }\n",
       "\n",
       "    .dataframe thead th {\n",
       "        text-align: right;\n",
       "    }\n",
       "</style>\n",
       "<table border=\"1\" class=\"dataframe\">\n",
       "  <thead>\n",
       "    <tr style=\"text-align: right;\">\n",
       "      <th></th>\n",
       "      <th>id</th>\n",
       "      <th>vendor_id</th>\n",
       "      <th>pickup_datetime</th>\n",
       "      <th>dropoff_datetime</th>\n",
       "      <th>passenger_count</th>\n",
       "      <th>pickup_longitude</th>\n",
       "      <th>pickup_latitude</th>\n",
       "      <th>dropoff_longitude</th>\n",
       "      <th>dropoff_latitude</th>\n",
       "      <th>store_and_fwd_flag</th>\n",
       "      <th>...</th>\n",
       "      <th>dropoff_day</th>\n",
       "      <th>pickup_day_no</th>\n",
       "      <th>droff_day_no</th>\n",
       "      <th>pickup_hour</th>\n",
       "      <th>dropoff_hour</th>\n",
       "      <th>pickup_month</th>\n",
       "      <th>dropoff_month</th>\n",
       "      <th>pickup_timeofday</th>\n",
       "      <th>dropoff_timeofday</th>\n",
       "      <th>distance</th>\n",
       "    </tr>\n",
       "  </thead>\n",
       "  <tbody>\n",
       "    <tr>\n",
       "      <th>159</th>\n",
       "      <td>id0442648</td>\n",
       "      <td>2</td>\n",
       "      <td>2016-01-01 00:30:00</td>\n",
       "      <td>2016-01-01 00:58:00</td>\n",
       "      <td>1</td>\n",
       "      <td>-73.946167</td>\n",
       "      <td>40.750908</td>\n",
       "      <td>-73.946167</td>\n",
       "      <td>40.750908</td>\n",
       "      <td>N</td>\n",
       "      <td>...</td>\n",
       "      <td>Friday</td>\n",
       "      <td>4</td>\n",
       "      <td>4</td>\n",
       "      <td>0</td>\n",
       "      <td>0</td>\n",
       "      <td>1</td>\n",
       "      <td>1</td>\n",
       "      <td>night</td>\n",
       "      <td>night</td>\n",
       "      <td>0.0</td>\n",
       "    </tr>\n",
       "    <tr>\n",
       "      <th>371</th>\n",
       "      <td>id3434741</td>\n",
       "      <td>1</td>\n",
       "      <td>2016-01-01 00:58:00</td>\n",
       "      <td>2016-01-01 00:58:00</td>\n",
       "      <td>1</td>\n",
       "      <td>-74.316406</td>\n",
       "      <td>40.529366</td>\n",
       "      <td>-74.316406</td>\n",
       "      <td>40.529366</td>\n",
       "      <td>N</td>\n",
       "      <td>...</td>\n",
       "      <td>Friday</td>\n",
       "      <td>4</td>\n",
       "      <td>4</td>\n",
       "      <td>0</td>\n",
       "      <td>0</td>\n",
       "      <td>1</td>\n",
       "      <td>1</td>\n",
       "      <td>night</td>\n",
       "      <td>night</td>\n",
       "      <td>0.0</td>\n",
       "    </tr>\n",
       "    <tr>\n",
       "      <th>504</th>\n",
       "      <td>id2018035</td>\n",
       "      <td>1</td>\n",
       "      <td>2016-01-01 01:17:00</td>\n",
       "      <td>2016-01-01 01:18:00</td>\n",
       "      <td>3</td>\n",
       "      <td>-74.003632</td>\n",
       "      <td>40.784061</td>\n",
       "      <td>-74.003632</td>\n",
       "      <td>40.784061</td>\n",
       "      <td>N</td>\n",
       "      <td>...</td>\n",
       "      <td>Friday</td>\n",
       "      <td>4</td>\n",
       "      <td>4</td>\n",
       "      <td>1</td>\n",
       "      <td>1</td>\n",
       "      <td>1</td>\n",
       "      <td>1</td>\n",
       "      <td>night</td>\n",
       "      <td>night</td>\n",
       "      <td>0.0</td>\n",
       "    </tr>\n",
       "    <tr>\n",
       "      <th>586</th>\n",
       "      <td>id0230631</td>\n",
       "      <td>2</td>\n",
       "      <td>2016-01-01 01:30:00</td>\n",
       "      <td>2016-01-01 02:05:00</td>\n",
       "      <td>1</td>\n",
       "      <td>-73.916946</td>\n",
       "      <td>40.837261</td>\n",
       "      <td>-73.916946</td>\n",
       "      <td>40.837261</td>\n",
       "      <td>N</td>\n",
       "      <td>...</td>\n",
       "      <td>Friday</td>\n",
       "      <td>4</td>\n",
       "      <td>4</td>\n",
       "      <td>1</td>\n",
       "      <td>2</td>\n",
       "      <td>1</td>\n",
       "      <td>1</td>\n",
       "      <td>night</td>\n",
       "      <td>night</td>\n",
       "      <td>0.0</td>\n",
       "    </tr>\n",
       "    <tr>\n",
       "      <th>632</th>\n",
       "      <td>id0844498</td>\n",
       "      <td>2</td>\n",
       "      <td>2016-01-01 01:36:00</td>\n",
       "      <td>2016-01-01 01:51:00</td>\n",
       "      <td>1</td>\n",
       "      <td>-73.989822</td>\n",
       "      <td>40.735302</td>\n",
       "      <td>-73.989822</td>\n",
       "      <td>40.735302</td>\n",
       "      <td>N</td>\n",
       "      <td>...</td>\n",
       "      <td>Friday</td>\n",
       "      <td>4</td>\n",
       "      <td>4</td>\n",
       "      <td>1</td>\n",
       "      <td>1</td>\n",
       "      <td>1</td>\n",
       "      <td>1</td>\n",
       "      <td>night</td>\n",
       "      <td>night</td>\n",
       "      <td>0.0</td>\n",
       "    </tr>\n",
       "  </tbody>\n",
       "</table>\n",
       "<p>5 rows × 25 columns</p>\n",
       "</div>"
      ],
      "text/plain": [
       "            id  vendor_id     pickup_datetime    dropoff_datetime  \\\n",
       "159  id0442648          2 2016-01-01 00:30:00 2016-01-01 00:58:00   \n",
       "371  id3434741          1 2016-01-01 00:58:00 2016-01-01 00:58:00   \n",
       "504  id2018035          1 2016-01-01 01:17:00 2016-01-01 01:18:00   \n",
       "586  id0230631          2 2016-01-01 01:30:00 2016-01-01 02:05:00   \n",
       "632  id0844498          2 2016-01-01 01:36:00 2016-01-01 01:51:00   \n",
       "\n",
       "     passenger_count  pickup_longitude  pickup_latitude  dropoff_longitude  \\\n",
       "159                1        -73.946167        40.750908         -73.946167   \n",
       "371                1        -74.316406        40.529366         -74.316406   \n",
       "504                3        -74.003632        40.784061         -74.003632   \n",
       "586                1        -73.916946        40.837261         -73.916946   \n",
       "632                1        -73.989822        40.735302         -73.989822   \n",
       "\n",
       "     dropoff_latitude store_and_fwd_flag  ...  dropoff_day  pickup_day_no  \\\n",
       "159         40.750908                  N  ...       Friday              4   \n",
       "371         40.529366                  N  ...       Friday              4   \n",
       "504         40.784061                  N  ...       Friday              4   \n",
       "586         40.837261                  N  ...       Friday              4   \n",
       "632         40.735302                  N  ...       Friday              4   \n",
       "\n",
       "     droff_day_no  pickup_hour dropoff_hour pickup_month  dropoff_month  \\\n",
       "159             4            0            0            1              1   \n",
       "371             4            0            0            1              1   \n",
       "504             4            1            1            1              1   \n",
       "586             4            1            2            1              1   \n",
       "632             4            1            1            1              1   \n",
       "\n",
       "     pickup_timeofday  dropoff_timeofday  distance  \n",
       "159             night              night       0.0  \n",
       "371             night              night       0.0  \n",
       "504             night              night       0.0  \n",
       "586             night              night       0.0  \n",
       "632             night              night       0.0  \n",
       "\n",
       "[5 rows x 25 columns]"
      ]
     },
     "execution_count": 52,
     "metadata": {},
     "output_type": "execute_result"
    }
   ],
   "source": [
    "data[data.distance==0].head()"
   ]
  },
  {
   "cell_type": "code",
   "execution_count": 53,
   "id": "094b505d",
   "metadata": {},
   "outputs": [
    {
     "data": {
      "text/plain": [
       "id                    38012\n",
       "vendor_id             38012\n",
       "pickup_datetime       38012\n",
       "dropoff_datetime      38012\n",
       "passenger_count       38012\n",
       "pickup_longitude      38012\n",
       "pickup_latitude       38012\n",
       "dropoff_longitude     38012\n",
       "dropoff_latitude      38012\n",
       "store_and_fwd_flag    38012\n",
       "gc_distance           38012\n",
       "trip_duration         38012\n",
       "google_distance       37472\n",
       "google_duration       37472\n",
       "pickup_day            38012\n",
       "dropoff_day           38012\n",
       "pickup_day_no         38012\n",
       "droff_day_no          38012\n",
       "pickup_hour           38012\n",
       "dropoff_hour          38012\n",
       "pickup_month          38012\n",
       "dropoff_month         38012\n",
       "pickup_timeofday      38012\n",
       "dropoff_timeofday     38012\n",
       "distance              38012\n",
       "dtype: int64"
      ]
     },
     "execution_count": 53,
     "metadata": {},
     "output_type": "execute_result"
    }
   ],
   "source": [
    "data[data.distance>0.5].count()"
   ]
  },
  {
   "cell_type": "code",
   "execution_count": 54,
   "id": "051d2ffd",
   "metadata": {},
   "outputs": [
    {
     "name": "stdout",
     "output_type": "stream",
     "text": [
      "id:['id0190469' 'id1665586' 'id1078247' ... 'id3324326' 'id3410388'\n",
      " 'id0044708']\n",
      "vendor_id:[2 1]\n",
      "pickup_datetime:['2016-01-01T00:00:00.000000000' '2016-01-01T00:01:00.000000000'\n",
      " '2016-01-01T00:02:00.000000000' ... '2016-01-08T21:54:00.000000000'\n",
      " '2016-01-08T21:55:00.000000000' '2016-01-08T21:56:00.000000000']\n",
      "dropoff_datetime:['2016-01-01T00:14:00.000000000' '2016-01-01T00:22:00.000000000'\n",
      " '2016-01-01T00:03:00.000000000' ... '2016-01-08T22:04:00.000000000'\n",
      " '2016-01-08T22:12:00.000000000' '2016-01-08T22:14:00.000000000']\n",
      "passenger_count:[5 1 2 3 4 6]\n",
      "pickup_longitude:[-73.98174286 -73.98508453 -73.97333527 ... -73.99565125 -74.02311707\n",
      " -73.95082092]\n",
      "pickup_latitude:[40.71915817 40.74716568 40.76407242 ... 40.75350189 40.73135757\n",
      " 40.7230835 ]\n",
      "dropoff_longitude:[-73.93882751 -73.95803833 -73.97485352 ... -74.0306015  -73.93953705\n",
      " -73.94979095]\n",
      "dropoff_latitude:[40.82918167 40.71749115 40.76173401 ... 40.75825882 40.73993301\n",
      " 40.72644424]\n",
      "store_and_fwd_flag:['N' 'Y']\n",
      "gc_distance:[7.92882961 2.49248213 0.18009874 ... 1.46001777 0.30859276 1.59083972]\n",
      "trip_duration:[  849  1294   114 ...  4505 84456  2857]\n",
      "google_distance:[15309.  9970.   289. ...  9974.  9548.  8335.]\n",
      "google_duration:[1109. 1277.   79. ... 2615. 2592. 3164.]\n",
      "pickup_day:['Friday' 'Saturday' 'Sunday' 'Monday' 'Tuesday' 'Wednesday' 'Thursday']\n",
      "dropoff_day:['Friday' 'Saturday' 'Sunday' 'Monday' 'Tuesday' 'Wednesday' 'Thursday']\n",
      "pickup_day_no:[4 5 6 0 1 2 3]\n",
      "droff_day_no:[4 5 6 0 1 2 3]\n",
      "pickup_hour:[ 0  1  2  3  4  5  6  7  8  9 10 11 12 13 14 15 16 17 18 19 20 21 22 23]\n",
      "dropoff_hour:[ 0  1  2  3  4  5  6  7  8  9 10 11 12 13 14 15 16 17 18 19 20 21 22 23]\n",
      "pickup_month:[1]\n",
      "dropoff_month:[1]\n",
      "pickup_timeofday:['night' 'morning' 'afternoon' 'evening']\n",
      "dropoff_timeofday:['night' 'morning' 'afternoon' 'evening']\n",
      "distance:[12.75663856  4.01013682  0.28975967 ...  2.34901199  0.49649281\n",
      "  2.55949137]\n"
     ]
    }
   ],
   "source": [
    "for col in data:\n",
    "    print(f\"{col}:{data[col].unique()}\")"
   ]
  },
  {
   "cell_type": "code",
   "execution_count": 55,
   "id": "9c199cc2",
   "metadata": {},
   "outputs": [
    {
     "data": {
      "text/plain": [
       "id                            object\n",
       "vendor_id                      int64\n",
       "pickup_datetime       datetime64[ns]\n",
       "dropoff_datetime      datetime64[ns]\n",
       "passenger_count                int64\n",
       "pickup_longitude             float64\n",
       "pickup_latitude              float64\n",
       "dropoff_longitude            float64\n",
       "dropoff_latitude             float64\n",
       "store_and_fwd_flag            object\n",
       "gc_distance                  float64\n",
       "trip_duration                  int64\n",
       "google_distance              float64\n",
       "google_duration              float64\n",
       "pickup_day                    object\n",
       "dropoff_day                   object\n",
       "pickup_day_no                  int64\n",
       "droff_day_no                   int64\n",
       "pickup_hour                    int64\n",
       "dropoff_hour                   int64\n",
       "pickup_month                   int64\n",
       "dropoff_month                  int64\n",
       "pickup_timeofday              object\n",
       "dropoff_timeofday             object\n",
       "distance                     float64\n",
       "dtype: object"
      ]
     },
     "execution_count": 55,
     "metadata": {},
     "output_type": "execute_result"
    }
   ],
   "source": [
    "data.dtypes"
   ]
  },
  {
   "cell_type": "code",
   "execution_count": 56,
   "id": "97fbdb70",
   "metadata": {},
   "outputs": [],
   "source": [
    "data = data[['vendor_id','passenger_count','pickup_latitude','dropoff_latitude','trip_duration','pickup_day','dropoff_day','distance']]"
   ]
  },
  {
   "cell_type": "code",
   "execution_count": 57,
   "id": "becfac0b",
   "metadata": {
    "scrolled": true
   },
   "outputs": [
    {
     "data": {
      "text/html": [
       "<div>\n",
       "<style scoped>\n",
       "    .dataframe tbody tr th:only-of-type {\n",
       "        vertical-align: middle;\n",
       "    }\n",
       "\n",
       "    .dataframe tbody tr th {\n",
       "        vertical-align: top;\n",
       "    }\n",
       "\n",
       "    .dataframe thead th {\n",
       "        text-align: right;\n",
       "    }\n",
       "</style>\n",
       "<table border=\"1\" class=\"dataframe\">\n",
       "  <thead>\n",
       "    <tr style=\"text-align: right;\">\n",
       "      <th></th>\n",
       "      <th>vendor_id</th>\n",
       "      <th>passenger_count</th>\n",
       "      <th>pickup_latitude</th>\n",
       "      <th>dropoff_latitude</th>\n",
       "      <th>trip_duration</th>\n",
       "      <th>pickup_day</th>\n",
       "      <th>dropoff_day</th>\n",
       "      <th>distance</th>\n",
       "    </tr>\n",
       "  </thead>\n",
       "  <tbody>\n",
       "    <tr>\n",
       "      <th>1537</th>\n",
       "      <td>1</td>\n",
       "      <td>1</td>\n",
       "      <td>40.799526</td>\n",
       "      <td>40.826176</td>\n",
       "      <td>727</td>\n",
       "      <td>Friday</td>\n",
       "      <td>Friday</td>\n",
       "      <td>2.967740</td>\n",
       "    </tr>\n",
       "    <tr>\n",
       "      <th>26004</th>\n",
       "      <td>1</td>\n",
       "      <td>2</td>\n",
       "      <td>40.750832</td>\n",
       "      <td>40.760998</td>\n",
       "      <td>541</td>\n",
       "      <td>Wednesday</td>\n",
       "      <td>Wednesday</td>\n",
       "      <td>1.878169</td>\n",
       "    </tr>\n",
       "    <tr>\n",
       "      <th>37911</th>\n",
       "      <td>1</td>\n",
       "      <td>1</td>\n",
       "      <td>40.725803</td>\n",
       "      <td>40.737530</td>\n",
       "      <td>661</td>\n",
       "      <td>Friday</td>\n",
       "      <td>Friday</td>\n",
       "      <td>2.118863</td>\n",
       "    </tr>\n",
       "    <tr>\n",
       "      <th>12673</th>\n",
       "      <td>2</td>\n",
       "      <td>1</td>\n",
       "      <td>40.778343</td>\n",
       "      <td>40.753319</td>\n",
       "      <td>714</td>\n",
       "      <td>Sunday</td>\n",
       "      <td>Sunday</td>\n",
       "      <td>2.931778</td>\n",
       "    </tr>\n",
       "    <tr>\n",
       "      <th>12656</th>\n",
       "      <td>1</td>\n",
       "      <td>1</td>\n",
       "      <td>40.767899</td>\n",
       "      <td>40.739632</td>\n",
       "      <td>845</td>\n",
       "      <td>Sunday</td>\n",
       "      <td>Sunday</td>\n",
       "      <td>3.809017</td>\n",
       "    </tr>\n",
       "  </tbody>\n",
       "</table>\n",
       "</div>"
      ],
      "text/plain": [
       "       vendor_id  passenger_count  pickup_latitude  dropoff_latitude  \\\n",
       "1537           1                1        40.799526         40.826176   \n",
       "26004          1                2        40.750832         40.760998   \n",
       "37911          1                1        40.725803         40.737530   \n",
       "12673          2                1        40.778343         40.753319   \n",
       "12656          1                1        40.767899         40.739632   \n",
       "\n",
       "       trip_duration pickup_day dropoff_day  distance  \n",
       "1537             727     Friday      Friday  2.967740  \n",
       "26004            541  Wednesday   Wednesday  1.878169  \n",
       "37911            661     Friday      Friday  2.118863  \n",
       "12673            714     Sunday      Sunday  2.931778  \n",
       "12656            845     Sunday      Sunday  3.809017  "
      ]
     },
     "execution_count": 57,
     "metadata": {},
     "output_type": "execute_result"
    }
   ],
   "source": [
    "data.sample(5)"
   ]
  },
  {
   "cell_type": "code",
   "execution_count": 58,
   "id": "b8cb872a",
   "metadata": {},
   "outputs": [],
   "source": [
    "data.replace({'Monday':1,'Tuesday':2,'Wednesday':3,'Thursday':4,'Friday':5,'Saturday':6,'Sunday':7},inplace=True)"
   ]
  },
  {
   "cell_type": "code",
   "execution_count": 59,
   "id": "ab6c5e78",
   "metadata": {},
   "outputs": [
    {
     "data": {
      "text/html": [
       "<div>\n",
       "<style scoped>\n",
       "    .dataframe tbody tr th:only-of-type {\n",
       "        vertical-align: middle;\n",
       "    }\n",
       "\n",
       "    .dataframe tbody tr th {\n",
       "        vertical-align: top;\n",
       "    }\n",
       "\n",
       "    .dataframe thead th {\n",
       "        text-align: right;\n",
       "    }\n",
       "</style>\n",
       "<table border=\"1\" class=\"dataframe\">\n",
       "  <thead>\n",
       "    <tr style=\"text-align: right;\">\n",
       "      <th></th>\n",
       "      <th>vendor_id</th>\n",
       "      <th>passenger_count</th>\n",
       "      <th>pickup_latitude</th>\n",
       "      <th>dropoff_latitude</th>\n",
       "      <th>trip_duration</th>\n",
       "      <th>pickup_day</th>\n",
       "      <th>dropoff_day</th>\n",
       "      <th>distance</th>\n",
       "    </tr>\n",
       "  </thead>\n",
       "  <tbody>\n",
       "    <tr>\n",
       "      <th>26299</th>\n",
       "      <td>2</td>\n",
       "      <td>5</td>\n",
       "      <td>40.762066</td>\n",
       "      <td>40.774197</td>\n",
       "      <td>2271</td>\n",
       "      <td>3</td>\n",
       "      <td>3</td>\n",
       "      <td>9.028945</td>\n",
       "    </tr>\n",
       "    <tr>\n",
       "      <th>10244</th>\n",
       "      <td>2</td>\n",
       "      <td>2</td>\n",
       "      <td>40.645325</td>\n",
       "      <td>40.736359</td>\n",
       "      <td>831</td>\n",
       "      <td>7</td>\n",
       "      <td>7</td>\n",
       "      <td>12.272406</td>\n",
       "    </tr>\n",
       "    <tr>\n",
       "      <th>27557</th>\n",
       "      <td>2</td>\n",
       "      <td>1</td>\n",
       "      <td>40.760529</td>\n",
       "      <td>40.746849</td>\n",
       "      <td>548</td>\n",
       "      <td>3</td>\n",
       "      <td>3</td>\n",
       "      <td>1.523906</td>\n",
       "    </tr>\n",
       "    <tr>\n",
       "      <th>34345</th>\n",
       "      <td>1</td>\n",
       "      <td>2</td>\n",
       "      <td>40.748032</td>\n",
       "      <td>40.758106</td>\n",
       "      <td>1718</td>\n",
       "      <td>5</td>\n",
       "      <td>5</td>\n",
       "      <td>6.154659</td>\n",
       "    </tr>\n",
       "    <tr>\n",
       "      <th>363</th>\n",
       "      <td>2</td>\n",
       "      <td>2</td>\n",
       "      <td>40.735779</td>\n",
       "      <td>40.744926</td>\n",
       "      <td>297</td>\n",
       "      <td>5</td>\n",
       "      <td>5</td>\n",
       "      <td>1.114335</td>\n",
       "    </tr>\n",
       "  </tbody>\n",
       "</table>\n",
       "</div>"
      ],
      "text/plain": [
       "       vendor_id  passenger_count  pickup_latitude  dropoff_latitude  \\\n",
       "26299          2                5        40.762066         40.774197   \n",
       "10244          2                2        40.645325         40.736359   \n",
       "27557          2                1        40.760529         40.746849   \n",
       "34345          1                2        40.748032         40.758106   \n",
       "363            2                2        40.735779         40.744926   \n",
       "\n",
       "       trip_duration  pickup_day  dropoff_day   distance  \n",
       "26299           2271           3            3   9.028945  \n",
       "10244            831           7            7  12.272406  \n",
       "27557            548           3            3   1.523906  \n",
       "34345           1718           5            5   6.154659  \n",
       "363              297           5            5   1.114335  "
      ]
     },
     "execution_count": 59,
     "metadata": {},
     "output_type": "execute_result"
    }
   ],
   "source": [
    "data.sample(5)"
   ]
  },
  {
   "cell_type": "code",
   "execution_count": 60,
   "id": "cec9a96e",
   "metadata": {},
   "outputs": [],
   "source": [
    "from sklearn.model_selection import train_test_split\n",
    "from sklearn.preprocessing import StandardScaler"
   ]
  },
  {
   "cell_type": "code",
   "execution_count": 61,
   "id": "c45b8edf",
   "metadata": {},
   "outputs": [],
   "source": [
    "X = data.drop(['pickup_day','dropoff_day','distance'],axis='columns')\n",
    "y = data[['pickup_day','dropoff_day','distance']]"
   ]
  },
  {
   "cell_type": "code",
   "execution_count": 62,
   "id": "ad0e9c2e",
   "metadata": {},
   "outputs": [],
   "source": [
    "Scaler = StandardScaler()\n",
    "X_train, X_test,y_train, y_test = train_test_split(X,y,test_size=0.2,random_state=5)\n",
    "x_train_s = Scaler.fit_transform(X_train)"
   ]
  },
  {
   "cell_type": "code",
   "execution_count": 63,
   "id": "0021c317",
   "metadata": {},
   "outputs": [
    {
     "data": {
      "text/html": [
       "<div>\n",
       "<style scoped>\n",
       "    .dataframe tbody tr th:only-of-type {\n",
       "        vertical-align: middle;\n",
       "    }\n",
       "\n",
       "    .dataframe tbody tr th {\n",
       "        vertical-align: top;\n",
       "    }\n",
       "\n",
       "    .dataframe thead th {\n",
       "        text-align: right;\n",
       "    }\n",
       "</style>\n",
       "<table border=\"1\" class=\"dataframe\">\n",
       "  <thead>\n",
       "    <tr style=\"text-align: right;\">\n",
       "      <th></th>\n",
       "      <th>vendor_id</th>\n",
       "      <th>passenger_count</th>\n",
       "      <th>pickup_latitude</th>\n",
       "      <th>dropoff_latitude</th>\n",
       "      <th>trip_duration</th>\n",
       "    </tr>\n",
       "  </thead>\n",
       "  <tbody>\n",
       "    <tr>\n",
       "      <th>9245</th>\n",
       "      <td>1</td>\n",
       "      <td>4</td>\n",
       "      <td>40.744553</td>\n",
       "      <td>40.618622</td>\n",
       "      <td>2501</td>\n",
       "    </tr>\n",
       "    <tr>\n",
       "      <th>18381</th>\n",
       "      <td>1</td>\n",
       "      <td>1</td>\n",
       "      <td>40.752098</td>\n",
       "      <td>40.746296</td>\n",
       "      <td>198</td>\n",
       "    </tr>\n",
       "    <tr>\n",
       "      <th>22800</th>\n",
       "      <td>1</td>\n",
       "      <td>1</td>\n",
       "      <td>40.645512</td>\n",
       "      <td>40.746887</td>\n",
       "      <td>1844</td>\n",
       "    </tr>\n",
       "    <tr>\n",
       "      <th>6009</th>\n",
       "      <td>2</td>\n",
       "      <td>2</td>\n",
       "      <td>40.787540</td>\n",
       "      <td>40.766529</td>\n",
       "      <td>417</td>\n",
       "    </tr>\n",
       "  </tbody>\n",
       "</table>\n",
       "</div>"
      ],
      "text/plain": [
       "       vendor_id  passenger_count  pickup_latitude  dropoff_latitude  \\\n",
       "9245           1                4        40.744553         40.618622   \n",
       "18381          1                1        40.752098         40.746296   \n",
       "22800          1                1        40.645512         40.746887   \n",
       "6009           2                2        40.787540         40.766529   \n",
       "\n",
       "       trip_duration  \n",
       "9245            2501  \n",
       "18381            198  \n",
       "22800           1844  \n",
       "6009             417  "
      ]
     },
     "execution_count": 63,
     "metadata": {},
     "output_type": "execute_result"
    }
   ],
   "source": [
    "X_train[:4]"
   ]
  },
  {
   "cell_type": "code",
   "execution_count": 64,
   "id": "1b5f8854",
   "metadata": {},
   "outputs": [
    {
     "name": "stderr",
     "output_type": "stream",
     "text": [
      "2023-01-21 13:41:00.628711: I tensorflow/core/platform/cpu_feature_guard.cc:193] This TensorFlow binary is optimized with oneAPI Deep Neural Network Library (oneDNN) to use the following CPU instructions in performance-critical operations:  AVX2 FMA\n",
      "To enable them in other operations, rebuild TensorFlow with the appropriate compiler flags.\n",
      "2023-01-21 13:41:00.804572: W tensorflow/compiler/xla/stream_executor/platform/default/dso_loader.cc:64] Could not load dynamic library 'libcudart.so.11.0'; dlerror: libcudart.so.11.0: cannot open shared object file: No such file or directory\n",
      "2023-01-21 13:41:00.804591: I tensorflow/compiler/xla/stream_executor/cuda/cudart_stub.cc:29] Ignore above cudart dlerror if you do not have a GPU set up on your machine.\n",
      "2023-01-21 13:41:01.993558: W tensorflow/compiler/xla/stream_executor/platform/default/dso_loader.cc:64] Could not load dynamic library 'libnvinfer.so.7'; dlerror: libnvinfer.so.7: cannot open shared object file: No such file or directory\n",
      "2023-01-21 13:41:01.993696: W tensorflow/compiler/xla/stream_executor/platform/default/dso_loader.cc:64] Could not load dynamic library 'libnvinfer_plugin.so.7'; dlerror: libnvinfer_plugin.so.7: cannot open shared object file: No such file or directory\n",
      "2023-01-21 13:41:01.993711: W tensorflow/compiler/tf2tensorrt/utils/py_utils.cc:38] TF-TRT Warning: Cannot dlopen some TensorRT libraries. If you would like to use Nvidia GPU with TensorRT, please make sure the missing libraries mentioned above are installed properly.\n"
     ]
    }
   ],
   "source": [
    "import tensorflow as tf\n",
    "import matplotlib.pyplot as plt\n",
    "from tensorflow import keras"
   ]
  },
  {
   "cell_type": "code",
   "execution_count": 65,
   "id": "d681bd8e",
   "metadata": {},
   "outputs": [
    {
     "name": "stderr",
     "output_type": "stream",
     "text": [
      "2023-01-21 13:41:03.162460: W tensorflow/compiler/xla/stream_executor/platform/default/dso_loader.cc:64] Could not load dynamic library 'libcuda.so.1'; dlerror: libcuda.so.1: cannot open shared object file: No such file or directory\n",
      "2023-01-21 13:41:03.162493: W tensorflow/compiler/xla/stream_executor/cuda/cuda_driver.cc:265] failed call to cuInit: UNKNOWN ERROR (303)\n",
      "2023-01-21 13:41:03.162520: I tensorflow/compiler/xla/stream_executor/cuda/cuda_diagnostics.cc:156] kernel driver does not appear to be running on this host (zeroday-Lenovo-V330-15IKB): /proc/driver/nvidia/version does not exist\n",
      "2023-01-21 13:41:03.162958: I tensorflow/core/platform/cpu_feature_guard.cc:193] This TensorFlow binary is optimized with oneAPI Deep Neural Network Library (oneDNN) to use the following CPU instructions in performance-critical operations:  AVX2 FMA\n",
      "To enable them in other operations, rebuild TensorFlow with the appropriate compiler flags.\n"
     ]
    },
    {
     "name": "stdout",
     "output_type": "stream",
     "text": [
      "Epoch 1/100\n",
      "985/985 [==============================] - 3s 2ms/step - loss: -457903.7188 - accuracy: 0.5391\n",
      "Epoch 2/100\n",
      "985/985 [==============================] - 2s 2ms/step - loss: -6473251.0000 - accuracy: 0.3041\n",
      "Epoch 3/100\n",
      "985/985 [==============================] - 2s 2ms/step - loss: -43978460.0000 - accuracy: 0.3041\n",
      "Epoch 4/100\n",
      "985/985 [==============================] - 2s 2ms/step - loss: -123977688.0000 - accuracy: 0.3041\n",
      "Epoch 5/100\n",
      "985/985 [==============================] - 2s 2ms/step - loss: -252796960.0000 - accuracy: 0.3041\n",
      "Epoch 6/100\n",
      "985/985 [==============================] - 2s 2ms/step - loss: -488812576.0000 - accuracy: 0.3041\n",
      "Epoch 7/100\n",
      "985/985 [==============================] - 2s 2ms/step - loss: -875385216.0000 - accuracy: 0.3041\n",
      "Epoch 8/100\n",
      "985/985 [==============================] - 2s 2ms/step - loss: -1404354560.0000 - accuracy: 0.3041\n",
      "Epoch 9/100\n",
      "985/985 [==============================] - 2s 2ms/step - loss: -2054029824.0000 - accuracy: 0.3041\n",
      "Epoch 10/100\n",
      "985/985 [==============================] - 2s 2ms/step - loss: -2905620224.0000 - accuracy: 0.3041\n",
      "Epoch 11/100\n",
      "985/985 [==============================] - 2s 2ms/step - loss: -4038610688.0000 - accuracy: 0.3041\n",
      "Epoch 12/100\n",
      "985/985 [==============================] - 2s 2ms/step - loss: -5401474048.0000 - accuracy: 0.3041\n",
      "Epoch 13/100\n",
      "985/985 [==============================] - 2s 2ms/step - loss: -7011086848.0000 - accuracy: 0.3041\n",
      "Epoch 14/100\n",
      "985/985 [==============================] - 2s 2ms/step - loss: -8845573120.0000 - accuracy: 0.3041\n",
      "Epoch 15/100\n",
      "985/985 [==============================] - 2s 2ms/step - loss: -10967761920.0000 - accuracy: 0.3041\n",
      "Epoch 16/100\n",
      "985/985 [==============================] - 2s 2ms/step - loss: -13799867392.0000 - accuracy: 0.3041\n",
      "Epoch 17/100\n",
      "985/985 [==============================] - 2s 2ms/step - loss: -17033851904.0000 - accuracy: 0.3041\n",
      "Epoch 18/100\n",
      "985/985 [==============================] - 2s 2ms/step - loss: -20387178496.0000 - accuracy: 0.3041\n",
      "Epoch 19/100\n",
      "985/985 [==============================] - 2s 2ms/step - loss: -24729946112.0000 - accuracy: 0.3041\n",
      "Epoch 20/100\n",
      "985/985 [==============================] - 2s 2ms/step - loss: -29610936320.0000 - accuracy: 0.3041\n",
      "Epoch 21/100\n",
      "985/985 [==============================] - 2s 2ms/step - loss: -35015163904.0000 - accuracy: 0.3041\n",
      "Epoch 22/100\n",
      "985/985 [==============================] - 2s 2ms/step - loss: -41302138880.0000 - accuracy: 0.3041\n",
      "Epoch 23/100\n",
      "985/985 [==============================] - 2s 2ms/step - loss: -47574507520.0000 - accuracy: 0.3041\n",
      "Epoch 24/100\n",
      "985/985 [==============================] - 2s 2ms/step - loss: -55298666496.0000 - accuracy: 0.3041\n",
      "Epoch 25/100\n",
      "985/985 [==============================] - 2s 2ms/step - loss: -63773044736.0000 - accuracy: 0.3041\n",
      "Epoch 26/100\n",
      "985/985 [==============================] - 2s 2ms/step - loss: -72955879424.0000 - accuracy: 0.3041\n",
      "Epoch 27/100\n",
      "985/985 [==============================] - 2s 2ms/step - loss: -83322363904.0000 - accuracy: 0.3041\n",
      "Epoch 28/100\n",
      "985/985 [==============================] - 2s 2ms/step - loss: -94202241024.0000 - accuracy: 0.3041\n",
      "Epoch 29/100\n",
      "985/985 [==============================] - 2s 2ms/step - loss: -106440679424.0000 - accuracy: 0.3041\n",
      "Epoch 30/100\n",
      "985/985 [==============================] - 2s 2ms/step - loss: -119655989248.0000 - accuracy: 0.3041\n",
      "Epoch 31/100\n",
      "985/985 [==============================] - 2s 2ms/step - loss: -134287917056.0000 - accuracy: 0.3041\n",
      "Epoch 32/100\n",
      "985/985 [==============================] - 2s 2ms/step - loss: -149915860992.0000 - accuracy: 0.3041\n",
      "Epoch 33/100\n",
      "985/985 [==============================] - 2s 2ms/step - loss: -166865797120.0000 - accuracy: 0.3041\n",
      "Epoch 34/100\n",
      "985/985 [==============================] - 2s 2ms/step - loss: -185115557888.0000 - accuracy: 0.3041\n",
      "Epoch 35/100\n",
      "985/985 [==============================] - 2s 2ms/step - loss: -205569835008.0000 - accuracy: 0.3041\n",
      "Epoch 36/100\n",
      "985/985 [==============================] - 2s 2ms/step - loss: -226831728640.0000 - accuracy: 0.3041\n",
      "Epoch 37/100\n",
      "985/985 [==============================] - 2s 2ms/step - loss: -249001197568.0000 - accuracy: 0.3041\n",
      "Epoch 38/100\n",
      "985/985 [==============================] - 2s 2ms/step - loss: -273156423680.0000 - accuracy: 0.3041\n",
      "Epoch 39/100\n",
      "985/985 [==============================] - 2s 2ms/step - loss: -298748051456.0000 - accuracy: 0.3041\n",
      "Epoch 40/100\n",
      "985/985 [==============================] - 2s 2ms/step - loss: -328477147136.0000 - accuracy: 0.3041\n",
      "Epoch 41/100\n",
      "985/985 [==============================] - 2s 2ms/step - loss: -360335867904.0000 - accuracy: 0.3041\n",
      "Epoch 42/100\n",
      "985/985 [==============================] - 2s 2ms/step - loss: -391628029952.0000 - accuracy: 0.3041\n",
      "Epoch 43/100\n",
      "985/985 [==============================] - 2s 2ms/step - loss: -426152394752.0000 - accuracy: 0.3041\n",
      "Epoch 44/100\n",
      "985/985 [==============================] - 2s 2ms/step - loss: -464101408768.0000 - accuracy: 0.3041\n",
      "Epoch 45/100\n",
      "985/985 [==============================] - 2s 2ms/step - loss: -504517165056.0000 - accuracy: 0.3041\n",
      "Epoch 46/100\n",
      "985/985 [==============================] - 2s 2ms/step - loss: -545833320448.0000 - accuracy: 0.3041\n",
      "Epoch 47/100\n",
      "985/985 [==============================] - 2s 2ms/step - loss: -589154025472.0000 - accuracy: 0.3041\n",
      "Epoch 48/100\n",
      "985/985 [==============================] - 2s 2ms/step - loss: -633502564352.0000 - accuracy: 0.3041\n",
      "Epoch 49/100\n",
      "985/985 [==============================] - 2s 2ms/step - loss: -681770418176.0000 - accuracy: 0.3041\n",
      "Epoch 50/100\n",
      "985/985 [==============================] - 2s 2ms/step - loss: -733116366848.0000 - accuracy: 0.3041\n",
      "Epoch 51/100\n",
      "985/985 [==============================] - 2s 2ms/step - loss: -789204238336.0000 - accuracy: 0.3041\n",
      "Epoch 52/100\n",
      "985/985 [==============================] - 2s 2ms/step - loss: -849873600512.0000 - accuracy: 0.3041\n",
      "Epoch 53/100\n",
      "985/985 [==============================] - 2s 2ms/step - loss: -911857156096.0000 - accuracy: 0.3041\n",
      "Epoch 54/100\n",
      "985/985 [==============================] - 2s 2ms/step - loss: -972891619328.0000 - accuracy: 0.3041\n",
      "Epoch 55/100\n",
      "985/985 [==============================] - 2s 2ms/step - loss: -1039066267648.0000 - accuracy: 0.3041\n",
      "Epoch 56/100\n",
      "985/985 [==============================] - 2s 2ms/step - loss: -1108885504000.0000 - accuracy: 0.3041\n",
      "Epoch 57/100\n",
      "985/985 [==============================] - 2s 2ms/step - loss: -1181096083456.0000 - accuracy: 0.3041\n",
      "Epoch 58/100\n",
      "985/985 [==============================] - 2s 2ms/step - loss: -1257423372288.0000 - accuracy: 0.3041\n",
      "Epoch 59/100\n",
      "985/985 [==============================] - 2s 2ms/step - loss: -1335706124288.0000 - accuracy: 0.3041\n",
      "Epoch 60/100\n",
      "985/985 [==============================] - 2s 2ms/step - loss: -1424585129984.0000 - accuracy: 0.3041\n",
      "Epoch 61/100\n",
      "985/985 [==============================] - 2s 2ms/step - loss: -1518660616192.0000 - accuracy: 0.3041\n",
      "Epoch 62/100\n",
      "985/985 [==============================] - 2s 2ms/step - loss: -1612615385088.0000 - accuracy: 0.3041\n",
      "Epoch 63/100\n",
      "985/985 [==============================] - 2s 2ms/step - loss: -1708146688000.0000 - accuracy: 0.3041\n",
      "Epoch 64/100\n",
      "985/985 [==============================] - 2s 2ms/step - loss: -1803960451072.0000 - accuracy: 0.3041\n",
      "Epoch 65/100\n",
      "985/985 [==============================] - 2s 2ms/step - loss: -1903960784896.0000 - accuracy: 0.3041\n",
      "Epoch 66/100\n",
      "985/985 [==============================] - 2s 2ms/step - loss: -2017454194688.0000 - accuracy: 0.3041\n",
      "Epoch 67/100\n",
      "985/985 [==============================] - 2s 2ms/step - loss: -2133729869824.0000 - accuracy: 0.3041\n",
      "Epoch 68/100\n",
      "985/985 [==============================] - 2s 2ms/step - loss: -2251853135872.0000 - accuracy: 0.3041\n",
      "Epoch 69/100\n",
      "985/985 [==============================] - 2s 2ms/step - loss: -2376938553344.0000 - accuracy: 0.3041\n",
      "Epoch 70/100\n",
      "985/985 [==============================] - 2s 2ms/step - loss: -2502131187712.0000 - accuracy: 0.3041\n",
      "Epoch 71/100\n",
      "985/985 [==============================] - 2s 2ms/step - loss: -2630801424384.0000 - accuracy: 0.3041\n",
      "Epoch 72/100\n",
      "985/985 [==============================] - 2s 2ms/step - loss: -2768946331648.0000 - accuracy: 0.3041\n",
      "Epoch 73/100\n"
     ]
    },
    {
     "name": "stdout",
     "output_type": "stream",
     "text": [
      "985/985 [==============================] - 2s 2ms/step - loss: -2913211514880.0000 - accuracy: 0.3041\n",
      "Epoch 74/100\n",
      "985/985 [==============================] - 2s 2ms/step - loss: -3063744823296.0000 - accuracy: 0.3041\n",
      "Epoch 75/100\n",
      "985/985 [==============================] - 2s 2ms/step - loss: -3221828403200.0000 - accuracy: 0.3041\n",
      "Epoch 76/100\n",
      "985/985 [==============================] - 2s 2ms/step - loss: -3382058680320.0000 - accuracy: 0.3041\n",
      "Epoch 77/100\n",
      "985/985 [==============================] - 2s 2ms/step - loss: -3548754214912.0000 - accuracy: 0.3041\n",
      "Epoch 78/100\n",
      "985/985 [==============================] - 2s 2ms/step - loss: -3727177809920.0000 - accuracy: 0.3041\n",
      "Epoch 79/100\n",
      "985/985 [==============================] - 2s 2ms/step - loss: -3910133874688.0000 - accuracy: 0.3041\n",
      "Epoch 80/100\n",
      "985/985 [==============================] - 2s 2ms/step - loss: -4096224395264.0000 - accuracy: 0.3041\n",
      "Epoch 81/100\n",
      "985/985 [==============================] - 2s 2ms/step - loss: -4290157477888.0000 - accuracy: 0.3041\n",
      "Epoch 82/100\n",
      "985/985 [==============================] - 2s 2ms/step - loss: -4484652072960.0000 - accuracy: 0.3041\n",
      "Epoch 83/100\n",
      "985/985 [==============================] - 2s 2ms/step - loss: -4691190087680.0000 - accuracy: 0.3041\n",
      "Epoch 84/100\n",
      "985/985 [==============================] - 2s 2ms/step - loss: -4900006658048.0000 - accuracy: 0.3041\n",
      "Epoch 85/100\n",
      "985/985 [==============================] - 2s 2ms/step - loss: -5108456751104.0000 - accuracy: 0.3041\n",
      "Epoch 86/100\n",
      "985/985 [==============================] - 2s 2ms/step - loss: -5343818022912.0000 - accuracy: 0.3041\n",
      "Epoch 87/100\n",
      "985/985 [==============================] - 2s 2ms/step - loss: -5589102493696.0000 - accuracy: 0.3041\n",
      "Epoch 88/100\n",
      "985/985 [==============================] - 2s 2ms/step - loss: -5824629440512.0000 - accuracy: 0.3041\n",
      "Epoch 89/100\n",
      "985/985 [==============================] - 2s 2ms/step - loss: -6077095084032.0000 - accuracy: 0.3041\n",
      "Epoch 90/100\n",
      "985/985 [==============================] - 2s 2ms/step - loss: -6330256457728.0000 - accuracy: 0.3041\n",
      "Epoch 91/100\n",
      "985/985 [==============================] - 2s 2ms/step - loss: -6579815972864.0000 - accuracy: 0.3041\n",
      "Epoch 92/100\n",
      "985/985 [==============================] - 2s 2ms/step - loss: -6842841825280.0000 - accuracy: 0.3041\n",
      "Epoch 93/100\n",
      "985/985 [==============================] - 2s 2ms/step - loss: -7128595038208.0000 - accuracy: 0.3041\n",
      "Epoch 94/100\n",
      "985/985 [==============================] - 2s 2ms/step - loss: -7419068940288.0000 - accuracy: 0.3041\n",
      "Epoch 95/100\n",
      "985/985 [==============================] - 2s 2ms/step - loss: -7724707872768.0000 - accuracy: 0.3041\n",
      "Epoch 96/100\n",
      "985/985 [==============================] - 2s 2ms/step - loss: -8030878433280.0000 - accuracy: 0.3041\n",
      "Epoch 97/100\n",
      "985/985 [==============================] - 2s 2ms/step - loss: -8351022841856.0000 - accuracy: 0.3041\n",
      "Epoch 98/100\n",
      "985/985 [==============================] - 2s 2ms/step - loss: -8680779546624.0000 - accuracy: 0.3041\n",
      "Epoch 99/100\n",
      "985/985 [==============================] - 2s 2ms/step - loss: -9021528473600.0000 - accuracy: 0.3041\n",
      "Epoch 100/100\n",
      "985/985 [==============================] - 2s 2ms/step - loss: -9366810918912.0000 - accuracy: 0.3041\n"
     ]
    },
    {
     "data": {
      "text/plain": [
       "<keras.callbacks.History at 0x7ff2983d0a00>"
      ]
     },
     "execution_count": 65,
     "metadata": {},
     "output_type": "execute_result"
    }
   ],
   "source": [
    "model = keras.Sequential([\n",
    "    keras.layers.Dense(5, input_shape=(5,), activation='relu'),\n",
    "    keras.layers.Dense(20,  activation='relu'),\n",
    "    keras.layers.Dense(15,  activation='relu'),\n",
    "    keras.layers.Dense(3,  activation='sigmoid'),\n",
    "])\n",
    "\n",
    "model.compile(optimizer='adam',\n",
    "              loss='binary_crossentropy',\n",
    "              metrics=['accuracy']\n",
    ")\n",
    "\n",
    "model.fit(X_train,y_train, epochs=100)"
   ]
  },
  {
   "cell_type": "code",
   "execution_count": 66,
   "id": "eaf931dd",
   "metadata": {
    "scrolled": true
   },
   "outputs": [
    {
     "name": "stdout",
     "output_type": "stream",
     "text": [
      "247/247 [==============================] - 1s 1ms/step - loss: -9396332527616.0000 - accuracy: 0.3064\n"
     ]
    },
    {
     "data": {
      "text/plain": [
       "[-9396332527616.0, 0.3064229488372803]"
      ]
     },
     "execution_count": 66,
     "metadata": {},
     "output_type": "execute_result"
    }
   ],
   "source": [
    "model.evaluate(X_test,y_test)"
   ]
  },
  {
   "cell_type": "code",
   "execution_count": 67,
   "id": "90dfb3b3",
   "metadata": {},
   "outputs": [],
   "source": [
    "from sklearn.ensemble import RandomForestRegressor"
   ]
  },
  {
   "cell_type": "code",
   "execution_count": 68,
   "id": "0cc58ffa",
   "metadata": {},
   "outputs": [
    {
     "data": {
      "text/plain": [
       "0.2416325944497744"
      ]
     },
     "execution_count": 68,
     "metadata": {},
     "output_type": "execute_result"
    }
   ],
   "source": [
    "forest = RandomForestRegressor()\n",
    "forest.fit(X_train, y_train)\n",
    "forest.score(X_test, y_test)"
   ]
  },
  {
   "cell_type": "code",
   "execution_count": 69,
   "id": "59975bac",
   "metadata": {},
   "outputs": [
    {
     "data": {
      "text/html": [
       "<div>\n",
       "<style scoped>\n",
       "    .dataframe tbody tr th:only-of-type {\n",
       "        vertical-align: middle;\n",
       "    }\n",
       "\n",
       "    .dataframe tbody tr th {\n",
       "        vertical-align: top;\n",
       "    }\n",
       "\n",
       "    .dataframe thead th {\n",
       "        text-align: right;\n",
       "    }\n",
       "</style>\n",
       "<table border=\"1\" class=\"dataframe\">\n",
       "  <thead>\n",
       "    <tr style=\"text-align: right;\">\n",
       "      <th></th>\n",
       "      <th>vendor_id</th>\n",
       "      <th>passenger_count</th>\n",
       "      <th>pickup_latitude</th>\n",
       "      <th>dropoff_latitude</th>\n",
       "      <th>trip_duration</th>\n",
       "    </tr>\n",
       "  </thead>\n",
       "  <tbody>\n",
       "    <tr>\n",
       "      <th>9245</th>\n",
       "      <td>1</td>\n",
       "      <td>4</td>\n",
       "      <td>40.744553</td>\n",
       "      <td>40.618622</td>\n",
       "      <td>2501</td>\n",
       "    </tr>\n",
       "    <tr>\n",
       "      <th>18381</th>\n",
       "      <td>1</td>\n",
       "      <td>1</td>\n",
       "      <td>40.752098</td>\n",
       "      <td>40.746296</td>\n",
       "      <td>198</td>\n",
       "    </tr>\n",
       "    <tr>\n",
       "      <th>22800</th>\n",
       "      <td>1</td>\n",
       "      <td>1</td>\n",
       "      <td>40.645512</td>\n",
       "      <td>40.746887</td>\n",
       "      <td>1844</td>\n",
       "    </tr>\n",
       "    <tr>\n",
       "      <th>6009</th>\n",
       "      <td>2</td>\n",
       "      <td>2</td>\n",
       "      <td>40.787540</td>\n",
       "      <td>40.766529</td>\n",
       "      <td>417</td>\n",
       "    </tr>\n",
       "    <tr>\n",
       "      <th>22616</th>\n",
       "      <td>2</td>\n",
       "      <td>1</td>\n",
       "      <td>40.760540</td>\n",
       "      <td>40.766159</td>\n",
       "      <td>403</td>\n",
       "    </tr>\n",
       "    <tr>\n",
       "      <th>...</th>\n",
       "      <td>...</td>\n",
       "      <td>...</td>\n",
       "      <td>...</td>\n",
       "      <td>...</td>\n",
       "      <td>...</td>\n",
       "    </tr>\n",
       "    <tr>\n",
       "      <th>5523</th>\n",
       "      <td>2</td>\n",
       "      <td>3</td>\n",
       "      <td>40.729298</td>\n",
       "      <td>40.720913</td>\n",
       "      <td>364</td>\n",
       "    </tr>\n",
       "    <tr>\n",
       "      <th>35820</th>\n",
       "      <td>1</td>\n",
       "      <td>2</td>\n",
       "      <td>40.749088</td>\n",
       "      <td>40.749088</td>\n",
       "      <td>9</td>\n",
       "    </tr>\n",
       "    <tr>\n",
       "      <th>20468</th>\n",
       "      <td>1</td>\n",
       "      <td>1</td>\n",
       "      <td>40.758595</td>\n",
       "      <td>40.752388</td>\n",
       "      <td>242</td>\n",
       "    </tr>\n",
       "    <tr>\n",
       "      <th>18642</th>\n",
       "      <td>2</td>\n",
       "      <td>1</td>\n",
       "      <td>40.757069</td>\n",
       "      <td>40.719543</td>\n",
       "      <td>1083</td>\n",
       "    </tr>\n",
       "    <tr>\n",
       "      <th>35689</th>\n",
       "      <td>2</td>\n",
       "      <td>1</td>\n",
       "      <td>40.725792</td>\n",
       "      <td>40.722546</td>\n",
       "      <td>525</td>\n",
       "    </tr>\n",
       "  </tbody>\n",
       "</table>\n",
       "<p>31511 rows × 5 columns</p>\n",
       "</div>"
      ],
      "text/plain": [
       "       vendor_id  passenger_count  pickup_latitude  dropoff_latitude  \\\n",
       "9245           1                4        40.744553         40.618622   \n",
       "18381          1                1        40.752098         40.746296   \n",
       "22800          1                1        40.645512         40.746887   \n",
       "6009           2                2        40.787540         40.766529   \n",
       "22616          2                1        40.760540         40.766159   \n",
       "...          ...              ...              ...               ...   \n",
       "5523           2                3        40.729298         40.720913   \n",
       "35820          1                2        40.749088         40.749088   \n",
       "20468          1                1        40.758595         40.752388   \n",
       "18642          2                1        40.757069         40.719543   \n",
       "35689          2                1        40.725792         40.722546   \n",
       "\n",
       "       trip_duration  \n",
       "9245            2501  \n",
       "18381            198  \n",
       "22800           1844  \n",
       "6009             417  \n",
       "22616            403  \n",
       "...              ...  \n",
       "5523             364  \n",
       "35820              9  \n",
       "20468            242  \n",
       "18642           1083  \n",
       "35689            525  \n",
       "\n",
       "[31511 rows x 5 columns]"
      ]
     },
     "execution_count": 69,
     "metadata": {},
     "output_type": "execute_result"
    }
   ],
   "source": [
    "X_train"
   ]
  },
  {
   "cell_type": "code",
   "execution_count": 86,
   "id": "c178f8a2",
   "metadata": {},
   "outputs": [],
   "source": [
    "class LinearRegression:\n",
    "    def _init_(self):\n",
    "        self.weights = None\n",
    "\n",
    "    def fit(self, X, y):\n",
    "        X = np.hstack((np.ones((X.shape[0], 1)), X))\n",
    "        self.weights = np.linalg.inv(X.T @ X) @ X.T @ y\n",
    "        \n",
    "    def predict(self, X):\n",
    "        X = np.hstack((np.ones((X.shape[0], 1)), X))\n",
    "        return X @ self.weights\n",
    "    def score(self, X, y):\n",
    "        y_pred = self.predict(X)\n",
    "        return 1 - mean_squared_error(y, y_pred) / np.var(y)"
   ]
  },
  {
   "cell_type": "code",
   "execution_count": 88,
   "id": "2d9b9214",
   "metadata": {},
   "outputs": [
    {
     "name": "stdout",
     "output_type": "stream",
     "text": [
      "R-squared: 0.5036499158739411\n"
     ]
    }
   ],
   "source": [
    "# create a linear regression model\n",
    "reg = LinearRegression()\n",
    "\n",
    "# fit the model to the data\n",
    "reg.fit(X_train, y_train)\n",
    "\n",
    "# evaluate the model's performance\n",
    "r_squared = reg.score(X_test, y_test)\n",
    "print(\"R-squared:\", r_squared.distance)"
   ]
  },
  {
   "cell_type": "code",
   "execution_count": null,
   "id": "ae698029",
   "metadata": {},
   "outputs": [],
   "source": []
  }
 ],
 "metadata": {
  "kernelspec": {
   "display_name": "Python 3 (ipykernel)",
   "language": "python",
   "name": "python3"
  },
  "language_info": {
   "codemirror_mode": {
    "name": "ipython",
    "version": 3
   },
   "file_extension": ".py",
   "mimetype": "text/x-python",
   "name": "python",
   "nbconvert_exporter": "python",
   "pygments_lexer": "ipython3",
   "version": "3.8.10"
  }
 },
 "nbformat": 4,
 "nbformat_minor": 5
}
